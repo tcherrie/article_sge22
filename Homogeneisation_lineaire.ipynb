{
 "cells": [
  {
   "cell_type": "markdown",
   "metadata": {},
   "source": [
    "# Maximisation couple moyen\n",
    "\n",
    "Ce notebook propose d'optimiser le rotor d'une machine synchro-réluctante sans aimant à une paire de pôle en vue de maximiser le couple moyen.\n",
    "Dans ce cas particulier, le couple moyen est directement relié à la différence de perméance magnétique du rotor dans l'axe direct d et l'axe en quadrature q.\n",
    "\n",
    "Le problème étudié est donc la maximisation de cette différence de perméance via la différence de compliance magnétique. Il est possible de démontrer que ce problème est mal posé."
   ]
  },
  {
   "cell_type": "code",
   "execution_count": 56,
   "metadata": {},
   "outputs": [],
   "source": [
    "from ngsolve import *\n",
    "from ngsolve.webgui import Draw\n",
    "from netgen.geom2d import CSG2d, Circle, Rectangle\n",
    "from copy import copy\n",
    "import numpy as np\n",
    "import matplotlib.pyplot as plt\n",
    "from ngsolve.internal import visoptions \n",
    "visoptions.scalfunction = \"Flux:0\""
   ]
  },
  {
   "cell_type": "markdown",
   "metadata": {},
   "source": [
    "## 1) Définition du maillage\n",
    "\n",
    "La première étape consiste à définir une géométrie (disque), ainsi que la finesse de maillage associée."
   ]
  },
  {
   "cell_type": "code",
   "execution_count": null,
   "metadata": {},
   "outputs": [],
   "source": []
  },
  {
   "cell_type": "code",
   "execution_count": 2,
   "metadata": {},
   "outputs": [
    {
     "data": {
      "application/vnd.jupyter.widget-view+json": {
       "model_id": "0a7fbe40ac004e4a85126969955c3ee3",
       "version_major": 2,
       "version_minor": 0
      },
      "text/plain": [
       "WebGuiWidget(value={'ngsolve_version': '6.2.2105-9-g5a835126f', 'mesh_dim': 2, 'order2d': 1, 'order3d': 1, 'dr…"
      ]
     },
     "metadata": {},
     "output_type": "display_data"
    },
    {
     "data": {
      "text/plain": [
       "BaseWebGuiScene"
      ]
     },
     "execution_count": 2,
     "metadata": {},
     "output_type": "execute_result"
    }
   ],
   "source": [
    "def generate_fitted_circle_mesh(N):\n",
    "    geo = CSG2d()\n",
    "    R=1\n",
    "    x = R*2*(np.append(np.insert(np.arange(0.5,N+0.5),0,0),N)/N-0.5)\n",
    "    \n",
    "    circle1 = Circle( center=(0,0), radius=R, bc=\"left_up\" ) * Rectangle( pmin=(-R,0), pmax=(0,R))\n",
    "    circle2 = Circle( center=(0,0), radius=R, bc=\"left_bot\" ) * Rectangle( pmin=(-R,-R), pmax=(0,0))\n",
    "    circle3 = Circle( center=(0,0), radius=R, bc=\"right_bot\" ) * Rectangle( pmin=(0,-R), pmax=(R,0))\n",
    "    circle4 = Circle( center=(0,0), radius=R, bc=\"right_up\" ) * Rectangle( pmin=(0,0), pmax=(R,R))\n",
    "    \n",
    "    materials = [\"iron\",\"air\"]\n",
    "    \n",
    "    for i in range(len(x)-1):\n",
    "        geo.Add(Rectangle( pmin=(x[i],-R), pmax=(x[i+1],R), mat = materials[i%2] ) * (circle1 + circle2 + circle3 +circle4))\n",
    "\n",
    "    #m = geo.GenerateMesh(maxh=max([R/N,1/30])) # On doit fixer la taille du maillage sinon le volume change à cause des elts grossiers\n",
    "    m = geo.GenerateMesh(maxh=1/N)\n",
    "    return Mesh(m)\n",
    "\n",
    "mesh = generate_fitted_circle_mesh(30)\n",
    "Draw (mesh)"
   ]
  },
  {
   "cell_type": "markdown",
   "metadata": {},
   "source": [
    "Tenseur de perméabilité anisotrope homogénéisé :\n",
    "\n",
    "$$\\mu^*(\\theta,\\rho) = R(\\theta)^T \\underbrace{\\begin{bmatrix} \\mu_{D}(\\rho) & 0 \\\\ 0 & \\mu_{Q}(\\rho) \\end{bmatrix}}_{M(\\rho)} R(\\theta) $$\n",
    "\n",
    "Avec $\\rho$ la fraction volumique ($\\simeq$ densité) et $\\theta\\in[-\\pi/2,\\pi/2]$ l'orientation privilégiée ($\\theta = 0 \\Rightarrow$ fibre orientée selon $\\vec{x}$). $R$ est une matrice de rotation :\n",
    "$$ R(\\theta) = \\begin{bmatrix} \\cos(\\theta) & - \\sin(\\theta) \\\\ \\sin(\\theta) & \\cos(\\theta) \\end{bmatrix}$$\n",
    "\n",
    "On définit aussi la perméabilité dans l'axe D (parallèle au flux):\n",
    "\n",
    "$$\\mu_{D}(\\rho) = \\mu_0 [\\rho (\\mu_r-1) + 1 ]$$\n",
    "\n",
    "Et la perméabilité dans l'axe Q (perpendiculaire au flux):\n",
    "\n",
    "$$\\mu_{Q}(\\rho) = \\frac{\\mu_0\\mu_r}{\\mu_r(1-\\rho) + 1}$$\n"
   ]
  },
  {
   "cell_type": "code",
   "execution_count": 66,
   "metadata": {},
   "outputs": [
    {
     "data": {
      "application/vnd.jupyter.widget-view+json": {
       "model_id": "5cf9ee37510a427fa6bfba30984f5ab9",
       "version_major": 2,
       "version_minor": 0
      },
      "text/plain": [
       "WebGuiWidget(value={'ngsolve_version': '6.2.2105-9-g5a835126f', 'mesh_dim': 2, 'order2d': 2, 'order3d': 2, 'dr…"
      ]
     },
     "metadata": {},
     "output_type": "display_data"
    }
   ],
   "source": [
    "mu0 = 4e-7 * np.pi\n",
    "mur = 1000\n",
    "\n",
    "varspace = L2(mesh, order=0)    \n",
    "rho = GridFunction(varspace)\n",
    "theta = GridFunction(varspace)\n",
    "\n",
    "rho.Set(0.5)\n",
    "theta.Set(0)\n",
    "\n",
    "def R(th):\n",
    "    return CoefficientFunction( ( (cos(th),-sin(th)), (sin(th), cos(th)) ), dims = (2,2) )\n",
    "\n",
    "def tR(th):\n",
    "    return CoefficientFunction( ( (cos(th),sin(th)), (-sin(th), cos(th)) ), dims = (2,2) )\n",
    "\n",
    "def muD(rh): \n",
    "    return mu0*(rh*(mur-1)+1)\n",
    "\n",
    "def muQ(rh):\n",
    "    return mu0*mur/(mur*(1-rh)+1)\n",
    "\n",
    "def M(rh):\n",
    "    return CoefficientFunction( ( (muD(rh),0),(0,muQ(rh)) ), dims = (2,2) )\n",
    "\n",
    "def mu_star(rh,th):\n",
    "    return tR(th)*M(rh)*R(th)\n",
    "\n",
    "def DrawMuStar(rh,th):\n",
    "    Draw(rh*CoefficientFunction((cos(th),sin(th))),mesh,vectors = { \"grid_size\":40});\n",
    "\n",
    "DrawMuStar(rho,theta)"
   ]
  },
  {
   "cell_type": "markdown",
   "metadata": {},
   "source": [
    "Le problème sous forme faible s'écrit :\n",
    "$$ \\int_\\Omega \\nabla \\Phi \\mu^* \\nabla \\phi = \\int_{\\partial \\Omega} \\Phi \\beta \\vec{x}|\\vec{y}. \\vec{n} $$"
   ]
  },
  {
   "cell_type": "code",
   "execution_count": 29,
   "metadata": {},
   "outputs": [],
   "source": [
    "beta = 1;\n",
    "\n",
    "fespace_H1 = H1(mesh, order=1)\n",
    "fespace_H1.FreeDofs()[0] = False\n",
    "\n",
    "def solvePb(rh,th):\n",
    "    phi = fespace_H1.TrialFunction()\n",
    "    psi = fespace_H1.TestFunction()\n",
    "    K = BilinearForm(fespace_H1, symmetric=True)\n",
    "    K += grad(psi)*(mu_star(rh,th)*grad(phi))*dx\n",
    "\n",
    "    n= specialcf.normal(mesh.dim);\n",
    "    \n",
    "    l1 = LinearForm(fespace_H1)\n",
    "    l1 += -psi* beta * sqrt(1-x*x)* ds(definedon=mesh.Boundaries(\"right_bot|left_bot\"))\n",
    "    l1 += psi*beta* sqrt(1-x*x)*ds(definedon=mesh.Boundaries(\"right_up|left_up\"))\n",
    "\n",
    "    l2 = LinearForm(fespace_H1)\n",
    "    l2 += -psi*beta*sqrt(1-y*y)*ds(definedon=mesh.Boundaries(\"right_bot|right_up\"))\n",
    "    l2 += psi*beta*sqrt(1-y*y)*ds(definedon=mesh.Boundaries(\"left_bot|left_up\"))\n",
    "    \n",
    "    K.Assemble()\n",
    "    invK = K.mat.Inverse(inverse=\"sparsecholesky\")\n",
    "    l1.Assemble()\n",
    "    l2.Assemble()\n",
    "    \n",
    "    phi1 = GridFunction(fespace_H1)  # solution\n",
    "    phi1.vec.data =     invK * l1.vec\n",
    "    phi2 = GridFunction(fespace_H1)  # solution\n",
    "    phi2.vec.data =     invK * l2.vec\n",
    "    \n",
    "    return(phi1, phi2)"
   ]
  },
  {
   "cell_type": "markdown",
   "metadata": {},
   "source": [
    "La compliance anisotrope s'écrit :\n",
    "$$ J(\\phi,\\rho,\\theta) = \\frac{1}{2} \\int_\\Omega \\nabla \\phi .\\mu^*(\\rho,\\theta) \\nabla \\phi $$\n",
    "\n",
    "Elle admet des dérivées partielles non nulles par rapport à $\\rho$ et $\\theta$ :\n",
    "\n",
    "$$ \\langle \\partial_{\\rho} J, \\Phi \\rangle = \\frac{1}{2} \\int_\\Omega \\Phi . \\left ( \\nabla \\phi .\\frac{\\partial\\mu^*}{\\partial \\rho} \\nabla \\phi \\right)$$\n",
    "$$ \\langle \\partial_{\\theta} J, \\Phi \\rangle = \\frac{1}{2} \\int_\\Omega \\Phi . \\left ( \\nabla \\phi .\\frac{\\partial\\mu^*}{\\partial \\theta} \\nabla \\phi \\right)$$\n",
    "$$ \\langle \\partial_{\\phi} J, \\Phi \\rangle = \\frac{1}{2} \\int_\\Omega \\nabla \\Phi . \\left ( (\\mu^* +\\mu^{*T}) \\nabla \\phi\\right) =  \\int_\\Omega \\nabla \\Phi \\mu^* \\nabla \\phi $$\n",
    "\n",
    "Le problème est donc auto-adjoint, mais il ne faut pas oublier les dérivées partielles par rapport à $\\theta$ et $\\rho$ dans l'expression de la dérivée de la compliance."
   ]
  },
  {
   "cell_type": "code",
   "execution_count": 51,
   "metadata": {},
   "outputs": [
    {
     "data": {
      "application/vnd.jupyter.widget-view+json": {
       "model_id": "85bf55c141414c6e850ff4ec0ed93d88",
       "version_major": 2,
       "version_minor": 0
      },
      "text/plain": [
       "WebGuiWidget(value={'ngsolve_version': '6.2.2105-9-g5a835126f', 'mesh_dim': 2, 'order2d': 2, 'order3d': 2, 'dr…"
      ]
     },
     "metadata": {},
     "output_type": "display_data"
    },
    {
     "data": {
      "text/plain": [
       "BaseWebGuiScene"
      ]
     },
     "execution_count": 51,
     "metadata": {},
     "output_type": "execute_result"
    }
   ],
   "source": [
    "def ComputeGradient(phi1,phi2,rh,th):\n",
    "    \n",
    "    mu1 = mu(phi1,rho)\n",
    "    mu2 = mu(phi2,rho)\n",
    "    Lag = (grad(lb1)*mu1*grad(phi1) + grad(lb2)*mu2*grad(phi2))*dx # FV\n",
    "    Lag += (grad(phi1)*mu1* grad(phi1) -  grad(phi2)*mu2* grad(phi2))/2*dx # fonction objectif\n",
    "    rho_test = rho.space.TestFunction()\n",
    "    temp = LinearForm(rho.space)\n",
    "    temp += Lag.Diff(rho,rho_test)\n",
    "    temp.Assemble()\n",
    "    r_temp = GridFunction(rho.space)\n",
    "    r_temp.vec.data = temp.vec\n",
    "    "
   ]
  },
  {
   "cell_type": "code",
   "execution_count": null,
   "metadata": {},
   "outputs": [],
   "source": [
    "#Draw (phi2, mesh);"
   ]
  },
  {
   "cell_type": "markdown",
   "metadata": {},
   "source": [
    "## 3) Optimisation\n",
    "\n",
    "Le problème est auto-adjoint. Ainsi, l'adjoint s'écrit $\\psi = -\\phi$ et l'identification $\\mathcal{L}^2$ du gradient par rapport à $\\mu$ s'écrit:\n",
    "$$\\partial_\\mu \\mathcal{L} = -\\int_\\Omega |\\nabla \\phi|^2 $$"
   ]
  },
  {
   "cell_type": "code",
   "execution_count": null,
   "metadata": {},
   "outputs": [],
   "source": [
    "def gradient(phi1,phi2):\n",
    "    return(-grad(phi1)*grad(phi1) + grad(phi2)*grad(phi2))\n",
    "\n",
    "def objective(phi1,phi2,mu):\n",
    "    return(Integrate(grad(phi1)*mu* grad(phi1) -  grad(phi2)*mu* grad(phi2), mesh))\n"
   ]
  },
  {
   "cell_type": "code",
   "execution_count": null,
   "metadata": {
    "scrolled": true
   },
   "outputs": [],
   "source": [
    "mur = np.logspace(0.1,3,20)\n",
    "Nmesh = [10, 20, 40]\n",
    "resultMU= []\n",
    "resultJ = []\n",
    "\n",
    "for k in range(len(Nmesh)):\n",
    "    lastMU = []\n",
    "    lastJ = []\n",
    "    N = Nmesh[k]\n",
    "    mesh = generate_fitted_circle_mesh(N)\n",
    "\n",
    "    for j in range(len(mur)):\n",
    "        fespace_mu = L2(mesh, order=0)    \n",
    "        mu = GridFunction(fespace_mu)\n",
    "        s = randint(3, size=len(mu.vec[:].FV()))-1\n",
    "        #mu.vec[:]= 4e-7*3.14*(2+s[:]) # situation initiale aléatoire\n",
    "        mu.vec[:]= 4e-7*3.14*1.5 # situation initiale uniforme\n",
    "        J=[]\n",
    "        mu0 = 4e-7*3.14\n",
    "        mu_max = mur[j]* mu0\n",
    "        step = (mu_max-mu0)/3\n",
    "        g = GridFunction(fespace_mu)\n",
    "        MU=[]\n",
    "        for i in range(1000):\n",
    "            phi1, phi2 = solvePb(mu,mesh)\n",
    "            g.Set(gradient(phi1,phi2))\n",
    "            g.vec[:]= np.sign(g.vec[:].FV().NumPy())\n",
    "            J.append(objective(phi1,phi2,mu))\n",
    "            MU.append(copy(mu))\n",
    "        \n",
    "            if i>0 and J[-1]< J[-2]:\n",
    "                step = step*1.2\n",
    "            elif i>0:\n",
    "                step = step/2\n",
    "        \n",
    "            mu.Set(MU[i] - g*step)\n",
    "            mu.vec[:].FV().NumPy()[mu.vec[:].FV().NumPy()<mu0]=mu0\n",
    "            mu.vec[:].FV().NumPy()[mu.vec[:].FV().NumPy()>mu_max]=mu_max\n",
    "            if np.isnan(np.sum(mu.vec[:].FV().NumPy())):\n",
    "                break\n",
    "            if step/(mu_max-mu0) < 1e-4:\n",
    "                break\n",
    "        lastMU.append(copy(MU[-2]))\n",
    "        lastJ.append(copy(J[-2]))\n",
    "        print(f'{lastJ[-1]} - mu_r = {mur[j]} - mesh = 1/{N}')\n",
    "    resultJ.append(copy(lastJ))\n",
    "    resultMU.append(copy(lastMU))"
   ]
  },
  {
   "cell_type": "code",
   "execution_count": null,
   "metadata": {
    "scrolled": true
   },
   "outputs": [],
   "source": [
    "i = 15\n",
    "Draw(lastMU[-1],mesh,min=mu0,max=mur[-1]*mu0)"
   ]
  },
  {
   "cell_type": "code",
   "execution_count": null,
   "metadata": {},
   "outputs": [],
   "source": [
    "#plt.plot(J)"
   ]
  },
  {
   "cell_type": "code",
   "execution_count": null,
   "metadata": {},
   "outputs": [],
   "source": [
    "theta_opt = (1-np.sqrt(mur))/(1-mur);\n",
    "Jopt = pi/mu0 * ((theta_opt/mur + (1-theta_opt)) - 1/(theta_opt*mur+ (1-theta_opt)))\n",
    "\n",
    "plt.semilogx(mur,-np.array(lastJ),mur,Jopt)\n",
    "plt.grid()\n",
    "plt.xlabel('mu_r')\n",
    "plt.ylabel('Fonction objectif (J)')\n",
    "plt.legend(['obtenu','maximum théorique'])"
   ]
  },
  {
   "cell_type": "code",
   "execution_count": null,
   "metadata": {},
   "outputs": [],
   "source": [
    "mur[-1]"
   ]
  },
  {
   "cell_type": "code",
   "execution_count": null,
   "metadata": {},
   "outputs": [],
   "source": []
  },
  {
   "cell_type": "code",
   "execution_count": null,
   "metadata": {},
   "outputs": [],
   "source": []
  },
  {
   "cell_type": "code",
   "execution_count": null,
   "metadata": {},
   "outputs": [],
   "source": []
  },
  {
   "cell_type": "code",
   "execution_count": null,
   "metadata": {},
   "outputs": [],
   "source": []
  },
  {
   "cell_type": "code",
   "execution_count": null,
   "metadata": {},
   "outputs": [],
   "source": []
  },
  {
   "cell_type": "code",
   "execution_count": null,
   "metadata": {},
   "outputs": [],
   "source": []
  },
  {
   "cell_type": "code",
   "execution_count": null,
   "metadata": {},
   "outputs": [],
   "source": []
  },
  {
   "cell_type": "code",
   "execution_count": null,
   "metadata": {},
   "outputs": [],
   "source": []
  },
  {
   "cell_type": "code",
   "execution_count": null,
   "metadata": {},
   "outputs": [],
   "source": []
  },
  {
   "cell_type": "code",
   "execution_count": null,
   "metadata": {},
   "outputs": [],
   "source": []
  },
  {
   "cell_type": "code",
   "execution_count": null,
   "metadata": {},
   "outputs": [],
   "source": []
  },
  {
   "cell_type": "code",
   "execution_count": null,
   "metadata": {},
   "outputs": [],
   "source": []
  }
 ],
 "metadata": {
  "kernelspec": {
   "display_name": "Python 3 (ipykernel)",
   "language": "python",
   "name": "python3"
  },
  "language_info": {
   "codemirror_mode": {
    "name": "ipython",
    "version": 3
   },
   "file_extension": ".py",
   "mimetype": "text/x-python",
   "name": "python",
   "nbconvert_exporter": "python",
   "pygments_lexer": "ipython3",
   "version": "3.8.10"
  },
  "livereveal": {
   "autolaunch": true
  },
  "toc": {
   "base_numbering": 1,
   "nav_menu": {},
   "number_sections": true,
   "sideBar": true,
   "skip_h1_title": false,
   "title_cell": "Table of Contents",
   "title_sidebar": "Contents",
   "toc_cell": false,
   "toc_position": {},
   "toc_section_display": true,
   "toc_window_display": false
  }
 },
 "nbformat": 4,
 "nbformat_minor": 4
}
