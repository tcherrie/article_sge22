{
 "cells": [
  {
   "cell_type": "markdown",
   "metadata": {},
   "source": [
    "# Maximisation couple moyen\n",
    "\n",
    "Ce notebook propose d'optimiser le rotor d'une machine synchro-réluctante sans aimant à une paire de pôle en vue de maximiser le couple moyen.\n",
    "Dans ce cas particulier, le couple moyen est directement relié à la différence de perméance magnétique du rotor dans l'axe direct d et l'axe en quadrature q.\n",
    "\n",
    "Le problème étudié est donc la maximisation de cette différence de perméance via la différence de compliance magnétique. Il est possible de démontrer que ce problème est mal posé."
   ]
  },
  {
   "cell_type": "code",
   "execution_count": 1,
   "metadata": {},
   "outputs": [
    {
     "name": "stdout",
     "output_type": "stream",
     "text": [
      "importing NGSolve-6.2.2105-9-g5a835126f\n"
     ]
    }
   ],
   "source": [
    "from ngsolve import *\n",
    "from ngsolve.webgui import Draw\n",
    "from netgen.geom2d import CSG2d, Circle, Rectangle\n",
    "from copy import copy\n",
    "import numpy as np\n",
    "import matplotlib.pyplot as plt\n",
    "from ngsolve.internal import visoptions \n",
    "visoptions.scalfunction = \"Flux:0\""
   ]
  },
  {
   "cell_type": "markdown",
   "metadata": {},
   "source": [
    "## 1) Définition du maillage\n",
    "\n",
    "La première étape consiste à définir une géométrie (disque), ainsi que la finesse de maillage associée."
   ]
  },
  {
   "cell_type": "code",
   "execution_count": null,
   "metadata": {},
   "outputs": [],
   "source": []
  },
  {
   "cell_type": "code",
   "execution_count": 2,
   "metadata": {},
   "outputs": [
    {
     "data": {
      "application/vnd.jupyter.widget-view+json": {
       "model_id": "6568e7f5dc294bb1a4781b5cd1c27f92",
       "version_major": 2,
       "version_minor": 0
      },
      "text/plain": [
       "WebGuiWidget(value={'ngsolve_version': '6.2.2105-9-g5a835126f', 'mesh_dim': 2, 'order2d': 1, 'order3d': 1, 'dr…"
      ]
     },
     "metadata": {},
     "output_type": "display_data"
    },
    {
     "data": {
      "text/plain": [
       "BaseWebGuiScene"
      ]
     },
     "execution_count": 2,
     "metadata": {},
     "output_type": "execute_result"
    }
   ],
   "source": [
    "def generate_fitted_circle_mesh(N):\n",
    "    geo = CSG2d()\n",
    "    R=1\n",
    "    x = R*2*(np.append(np.insert(np.arange(0.5,N+0.5),0,0),N)/N-0.5)\n",
    "    \n",
    "    circle1 = Circle( center=(0,0), radius=R, bc=\"left_up\" ) * Rectangle( pmin=(-R,0), pmax=(0,R))\n",
    "    circle2 = Circle( center=(0,0), radius=R, bc=\"left_bot\" ) * Rectangle( pmin=(-R,-R), pmax=(0,0))\n",
    "    circle3 = Circle( center=(0,0), radius=R, bc=\"right_bot\" ) * Rectangle( pmin=(0,-R), pmax=(R,0))\n",
    "    circle4 = Circle( center=(0,0), radius=R, bc=\"right_up\" ) * Rectangle( pmin=(0,0), pmax=(R,R))\n",
    "    \n",
    "    materials = [\"iron\",\"air\"]\n",
    "    \n",
    "    for i in range(len(x)-1):\n",
    "        geo.Add(Rectangle( pmin=(x[i],-R), pmax=(x[i+1],R), mat = materials[i%2] ) * (circle1 + circle2 + circle3 +circle4))\n",
    "\n",
    "    #m = geo.GenerateMesh(maxh=max([R/N,1/30])) # On doit fixer la taille du maillage sinon le volume change à cause des elts grossiers\n",
    "    m = geo.GenerateMesh(maxh=1/N)\n",
    "    return Mesh(m)\n",
    "\n",
    "mesh = generate_fitted_circle_mesh(30)\n",
    "Draw (mesh)"
   ]
  },
  {
   "cell_type": "markdown",
   "metadata": {},
   "source": [
    "## 2) Définition du problème\n",
    "Tenseur de perméabilité anisotrope homogénéisé :\n",
    "\n",
    "$$\\mu^*(\\theta,\\rho) = R(\\theta)^T \\underbrace{\\begin{bmatrix} \\mu_{D}(\\rho) & 0 \\\\ 0 & \\mu_{Q}(\\rho) \\end{bmatrix}}_{M(\\rho)} R(\\theta) $$\n",
    "\n",
    "Avec $\\rho$ la fraction volumique ($\\simeq$ densité) et $\\theta\\in[-\\pi/2,\\pi/2]$ l'orientation privilégiée ($\\theta = 0 \\Rightarrow$ fibre orientée selon $\\vec{x}$). $R$ est une matrice de rotation :\n",
    "$$ R(\\theta) = \\begin{bmatrix} \\cos(\\theta) & - \\sin(\\theta) \\\\ \\sin(\\theta) & \\cos(\\theta) \\end{bmatrix}$$\n",
    "\n",
    "On définit aussi la perméabilité dans l'axe D (parallèle au flux):\n",
    "\n",
    "$$\\mu_{D}(\\rho) = \\mu_0 [\\rho (\\mu_r-1) + 1 ]$$\n",
    "\n",
    "Et la perméabilité dans l'axe Q (perpendiculaire au flux):\n",
    "\n",
    "$$\\mu_{Q}(\\rho) = \\frac{\\mu_0\\mu_r}{\\mu_r(1-\\rho) + 1}$$\n"
   ]
  },
  {
   "cell_type": "code",
   "execution_count": 3,
   "metadata": {},
   "outputs": [],
   "source": [
    "mu0 = 4e-7 * np.pi\n",
    "mur = 1000\n",
    "\n",
    "varspace = L2(mesh, order=0)    \n",
    "rho = GridFunction(varspace)\n",
    "theta = GridFunction(varspace)\n",
    "\n",
    "rho.Set(0.5)\n",
    "theta.Set(0)\n",
    "\n",
    "def R(th):\n",
    "    return CoefficientFunction( ( (cos(th),-sin(th)), (sin(th), cos(th)) ), dims = (2,2) )\n",
    "\n",
    "def tR(th):\n",
    "    return CoefficientFunction( ( (cos(th),sin(th)), (-sin(th), cos(th)) ), dims = (2,2) )\n",
    "\n",
    "def muD(rh): \n",
    "    return mu0*(rh*(mur-1)+1)\n",
    "\n",
    "def muQ(rh):\n",
    "    return mu0*mur/(mur*(1-rh)+1)\n",
    "\n",
    "def M(rh):\n",
    "    return CoefficientFunction( ( (muD(rh),0),(0,muQ(rh)) ), dims = (2,2) )\n",
    "\n",
    "def mu_star(rh,th):\n",
    "    return tR(th)*M(rh)*R(th)\n",
    "\n",
    "def DrawMuStar(rh,th):\n",
    "    Draw(rh*CoefficientFunction((cos(th),sin(th))),mesh,vectors = { \"grid_size\":40});"
   ]
  },
  {
   "cell_type": "markdown",
   "metadata": {},
   "source": [
    "Le problème sous forme faible s'écrit :\n",
    "$$ \\int_\\Omega \\nabla \\Phi \\mu^* \\nabla \\phi = \\int_{\\partial \\Omega} \\Phi \\beta \\vec{x}|\\vec{y}. \\vec{n} $$"
   ]
  },
  {
   "cell_type": "code",
   "execution_count": 4,
   "metadata": {},
   "outputs": [],
   "source": [
    "beta = 1;\n",
    "\n",
    "fespace_H1 = H1(mesh, order=1)\n",
    "fespace_H1.FreeDofs()[0] = False\n",
    "\n",
    "def solvePb(rh,th):\n",
    "    phi = fespace_H1.TrialFunction()\n",
    "    psi = fespace_H1.TestFunction()\n",
    "    K = BilinearForm(fespace_H1, symmetric=True)\n",
    "    K += grad(psi)*(mu_star(rh,th)*grad(phi))*dx\n",
    "\n",
    "    n= specialcf.normal(mesh.dim);\n",
    "    \n",
    "    l1 = LinearForm(fespace_H1)\n",
    "    l1 += -psi* beta * sqrt(1-x*x)* ds(definedon=mesh.Boundaries(\"right_bot|left_bot\"))\n",
    "    l1 += psi*beta* sqrt(1-x*x)*ds(definedon=mesh.Boundaries(\"right_up|left_up\"))\n",
    "\n",
    "    l2 = LinearForm(fespace_H1)\n",
    "    l2 += -psi*beta*sqrt(1-y*y)*ds(definedon=mesh.Boundaries(\"right_bot|right_up\"))\n",
    "    l2 += psi*beta*sqrt(1-y*y)*ds(definedon=mesh.Boundaries(\"left_bot|left_up\"))\n",
    "    \n",
    "    K.Assemble()\n",
    "    invK = K.mat.Inverse(inverse=\"sparsecholesky\")\n",
    "    l1.Assemble()\n",
    "    l2.Assemble()\n",
    "    \n",
    "    phi1 = GridFunction(fespace_H1)  # solution\n",
    "    phi1.vec.data =     invK * l1.vec\n",
    "    phi2 = GridFunction(fespace_H1)  # solution\n",
    "    phi2.vec.data =     invK * l2.vec\n",
    "    \n",
    "    return(phi1, phi2)"
   ]
  },
  {
   "cell_type": "markdown",
   "metadata": {},
   "source": [
    "## 3) Optimisation\n",
    "La compliance anisotrope s'écrit :\n",
    "$$ J(\\phi,\\rho,\\theta) = \\frac{1}{2} \\int_\\Omega \\nabla \\phi .\\mu^*(\\rho,\\theta) \\nabla \\phi $$\n",
    "\n",
    "Elle admet des dérivées partielles non nulles par rapport à $\\rho$ et $\\theta$ :\n",
    "\n",
    "$$ \\langle \\partial_{\\rho} J, \\Phi \\rangle = \\frac{1}{2} \\int_\\Omega \\Phi . \\left ( \\nabla \\phi .\\frac{\\partial\\mu^*}{\\partial \\rho} \\nabla \\phi \\right)$$\n",
    "$$ \\langle \\partial_{\\theta} J, \\Phi \\rangle = \\frac{1}{2} \\int_\\Omega \\Phi . \\left ( \\nabla \\phi .\\frac{\\partial\\mu^*}{\\partial \\theta} \\nabla \\phi \\right)$$\n",
    "$$ \\langle \\partial_{\\phi} J, \\Phi \\rangle = \\frac{1}{2} \\int_\\Omega \\nabla \\Phi . \\left ( (\\mu^* +\\mu^{*T}) \\nabla \\phi\\right) =  \\int_\\Omega \\nabla \\Phi \\mu^* \\nabla \\phi $$\n",
    "\n",
    "Le problème est donc auto-adjoint, mais il ne faut pas oublier les dérivées partielles par rapport à $\\theta$ et $\\rho$ dans l'expression de la dérivée de la compliance."
   ]
  },
  {
   "cell_type": "code",
   "execution_count": 5,
   "metadata": {},
   "outputs": [],
   "source": [
    "def compliance(phi,rh,th):\n",
    "    return Integrate(grad(phi)* (mu_star(rh,th)* grad(phi)), mesh) /2\n",
    "\n",
    "def computeGradient(phi1,phi2,rh,th):\n",
    "    \n",
    "    mustar = mu_star(rh,th)\n",
    "    \n",
    "    Lag = ( grad(phi1)*(mustar*grad(phi1)) + grad(phi2)*(mustar*grad(phi2)) )*dx # FV\n",
    "    Lag += (grad(phi1)* (mustar * grad(phi1)) -  grad(phi2)* (mustar* grad(phi2)) )/2*dx # fonction objectif\n",
    "    \n",
    "    # dérivée par rapport à rho\n",
    "    rho_test = rh.space.TestFunction()\n",
    "    dLag_drho_t = LinearForm(rh.space)\n",
    "    dLag_drho_t += Lag.Diff(rh,rho_test)\n",
    "    dLag_drho_t.Assemble()\n",
    "    dLag_drho = GridFunction(rh.space)\n",
    "    dLag_drho.vec.data = dLag_drho_t.vec\n",
    "    \n",
    "    # dérivée par rapport à theta\n",
    "    theta_test = th.space.TestFunction()\n",
    "    dLag_dtheta_t = LinearForm(th.space)\n",
    "    dLag_dtheta_t += Lag.Diff(rh,theta_test)\n",
    "    dLag_dtheta_t.Assemble()\n",
    "    dLag_dtheta = GridFunction(th.space)\n",
    "    dLag_dtheta.vec.data = dLag_dtheta_t.vec\n",
    "    \n",
    "    return dLag_drho, dLag_dtheta"
   ]
  },
  {
   "cell_type": "code",
   "execution_count": null,
   "metadata": {},
   "outputs": [],
   "source": []
  },
  {
   "cell_type": "code",
   "execution_count": 6,
   "metadata": {},
   "outputs": [
    {
     "name": "stdout",
     "output_type": "stream",
     "text": [
      "623797.823476958 - step = 0.1\n",
      "605292.4526479609 - step = 0.12\n",
      "168012.53534577542 - step = 0.144\n",
      "-704019.8778605438 - step = 0.17279999999999998\n",
      "-1294.8143359362148 - step = 0.08639999999999999\n",
      "-1294.0977904007304 - step = 0.043199999999999995\n",
      "-1293.9430061972234 - step = 0.021599999999999998\n",
      "-1294.0663197371177 - step = 0.025919999999999995\n",
      "-1294.5560749240685 - step = 0.031103999999999993\n",
      "-1294.0841661861632 - step = 0.015551999999999996\n",
      "-1294.4571492767427 - step = 0.018662399999999996\n",
      "-1294.3303882535547 - step = 0.009331199999999998\n",
      "-1294.822092698887 - step = 0.011197439999999998\n",
      "-1294.076188849518 - step = 0.005598719999999999\n",
      "-1294.388520296663 - step = 0.006718463999999999\n",
      "-1294.4139938226435 - step = 0.008062156799999998\n",
      "-1294.2037413252983 - step = 0.004031078399999999\n",
      "-1294.1912774469238 - step = 0.0020155391999999994\n",
      "-1294.3418375179172 - step = 0.0024186470399999993\n",
      "-1293.9421909942757 - step = 0.0012093235199999997\n"
     ]
    },
    {
     "ename": "KeyboardInterrupt",
     "evalue": "",
     "output_type": "error",
     "traceback": [
      "\u001b[0;31m---------------------------------------------------------------------------\u001b[0m",
      "\u001b[0;31mKeyboardInterrupt\u001b[0m                         Traceback (most recent call last)",
      "\u001b[0;32m/tmp/ipykernel_995/3742699061.py\u001b[0m in \u001b[0;36m<module>\u001b[0;34m\u001b[0m\n\u001b[1;32m     13\u001b[0m     \u001b[0;31m# Calcul et normalisation du gradient\u001b[0m\u001b[0;34m\u001b[0m\u001b[0;34m\u001b[0m\u001b[0;34m\u001b[0m\u001b[0m\n\u001b[1;32m     14\u001b[0m \u001b[0;34m\u001b[0m\u001b[0m\n\u001b[0;32m---> 15\u001b[0;31m     \u001b[0mdJdrho_brut\u001b[0m\u001b[0;34m,\u001b[0m \u001b[0mdJdtheta_brut\u001b[0m \u001b[0;34m=\u001b[0m \u001b[0mcomputeGradient\u001b[0m\u001b[0;34m(\u001b[0m\u001b[0mphi1\u001b[0m\u001b[0;34m,\u001b[0m\u001b[0mphi2\u001b[0m\u001b[0;34m,\u001b[0m\u001b[0mrho\u001b[0m\u001b[0;34m,\u001b[0m\u001b[0mtheta\u001b[0m\u001b[0;34m)\u001b[0m\u001b[0;34m\u001b[0m\u001b[0;34m\u001b[0m\u001b[0m\n\u001b[0m\u001b[1;32m     16\u001b[0m \u001b[0;34m\u001b[0m\u001b[0m\n\u001b[1;32m     17\u001b[0m     \u001b[0mdJdrho\u001b[0m\u001b[0;34m.\u001b[0m\u001b[0mSet\u001b[0m\u001b[0;34m(\u001b[0m\u001b[0mdJdrho_brut\u001b[0m\u001b[0;34m)\u001b[0m\u001b[0;34m\u001b[0m\u001b[0;34m\u001b[0m\u001b[0m\n",
      "\u001b[0;32m/tmp/ipykernel_995/3125798786.py\u001b[0m in \u001b[0;36mcomputeGradient\u001b[0;34m(phi1, phi2, rh, th)\u001b[0m\n\u001b[1;32m     13\u001b[0m     \u001b[0mdLag_drho_t\u001b[0m \u001b[0;34m=\u001b[0m \u001b[0mLinearForm\u001b[0m\u001b[0;34m(\u001b[0m\u001b[0mrh\u001b[0m\u001b[0;34m.\u001b[0m\u001b[0mspace\u001b[0m\u001b[0;34m)\u001b[0m\u001b[0;34m\u001b[0m\u001b[0;34m\u001b[0m\u001b[0m\n\u001b[1;32m     14\u001b[0m     \u001b[0mdLag_drho_t\u001b[0m \u001b[0;34m+=\u001b[0m \u001b[0mLag\u001b[0m\u001b[0;34m.\u001b[0m\u001b[0mDiff\u001b[0m\u001b[0;34m(\u001b[0m\u001b[0mrh\u001b[0m\u001b[0;34m,\u001b[0m\u001b[0mrho_test\u001b[0m\u001b[0;34m)\u001b[0m\u001b[0;34m\u001b[0m\u001b[0;34m\u001b[0m\u001b[0m\n\u001b[0;32m---> 15\u001b[0;31m     \u001b[0mdLag_drho_t\u001b[0m\u001b[0;34m.\u001b[0m\u001b[0mAssemble\u001b[0m\u001b[0;34m(\u001b[0m\u001b[0;34m)\u001b[0m\u001b[0;34m\u001b[0m\u001b[0;34m\u001b[0m\u001b[0m\n\u001b[0m\u001b[1;32m     16\u001b[0m     \u001b[0mdLag_drho\u001b[0m \u001b[0;34m=\u001b[0m \u001b[0mGridFunction\u001b[0m\u001b[0;34m(\u001b[0m\u001b[0mrh\u001b[0m\u001b[0;34m.\u001b[0m\u001b[0mspace\u001b[0m\u001b[0;34m)\u001b[0m\u001b[0;34m\u001b[0m\u001b[0;34m\u001b[0m\u001b[0m\n\u001b[1;32m     17\u001b[0m     \u001b[0mdLag_drho\u001b[0m\u001b[0;34m.\u001b[0m\u001b[0mvec\u001b[0m\u001b[0;34m.\u001b[0m\u001b[0mdata\u001b[0m \u001b[0;34m=\u001b[0m \u001b[0mdLag_drho_t\u001b[0m\u001b[0;34m.\u001b[0m\u001b[0mvec\u001b[0m\u001b[0;34m\u001b[0m\u001b[0;34m\u001b[0m\u001b[0m\n",
      "\u001b[0;31mKeyboardInterrupt\u001b[0m: "
     ]
    }
   ],
   "source": [
    "thetaList = []\n",
    "rhoList = []\n",
    "Jlist = []\n",
    "dJdrho = GridFunction(varspace)\n",
    "dJdtheta = GridFunction(varspace)\n",
    "step = 0.1\n",
    "\n",
    "for i in range(1000):\n",
    "    # Résolution du problème\n",
    "    \n",
    "    phi1, phi2 = solvePb(rho,theta)\n",
    "    \n",
    "    # Calcul et normalisation du gradient\n",
    "    \n",
    "    dJdrho_brut, dJdtheta_brut = computeGradient(phi1,phi2,rho,theta) \n",
    "    \n",
    "    dJdrho.Set(dJdrho_brut)\n",
    "    dJdrho.vec[:]= np.sign(dJdrho.vec[:].FV().NumPy())\n",
    "    dJdtheta.Set(dJdtheta_brut)\n",
    "    dJdtheta.vec[:]= np.sign(dJdtheta.vec[:].FV().NumPy())\n",
    "    \n",
    "    Jlist.append(compliance(phi1,rho,theta)-compliance(phi2,rho,theta))\n",
    "    thetaList.append(copy(theta))\n",
    "    rhoList.append(copy(rho))\n",
    "     \n",
    "    # contrôle du pas\n",
    "    \n",
    "    if i>0 and Jlist[-1]< Jlist[-2]:\n",
    "        step = min([step*1.2,1])\n",
    "    elif i>0:\n",
    "        step = step/2\n",
    "    \n",
    "    rho.Set( rhoList[-1] - dJdrho*step )\n",
    "    rho.vec[:].FV().NumPy()[rho.vec[:].FV().NumPy()<0]=0\n",
    "    rho.vec[:].FV().NumPy()[rho.vec[:].FV().NumPy()>1]=1\n",
    "    \n",
    "    theta.Set( thetaList[-1] - dJdtheta * step*np.pi )\n",
    "    theta.vec[:].FV().NumPy()[theta.vec[:].FV().NumPy()<-np.pi/2]=-np.pi/2\n",
    "    theta.vec[:].FV().NumPy()[theta.vec[:].FV().NumPy()>np.pi/2]=np.pi/2\n",
    "    \n",
    "    if np.isnan(np.sum(rho.vec[:].FV().NumPy())) or np.isnan(np.sum(theta.vec[:].FV().NumPy())):\n",
    "        break\n",
    "    if step < 1e-4:\n",
    "        break\n",
    "    \n",
    "    print(f'{Jlist[-1]} - step = {step}')"
   ]
  },
  {
   "cell_type": "code",
   "execution_count": null,
   "metadata": {
    "scrolled": true
   },
   "outputs": [],
   "source": [
    "DrawMuStar(rho,theta)"
   ]
  },
  {
   "cell_type": "code",
   "execution_count": null,
   "metadata": {
    "scrolled": true
   },
   "outputs": [],
   "source": [
    "Draw(rho)"
   ]
  },
  {
   "cell_type": "code",
   "execution_count": null,
   "metadata": {},
   "outputs": [],
   "source": []
  },
  {
   "cell_type": "code",
   "execution_count": null,
   "metadata": {},
   "outputs": [],
   "source": []
  },
  {
   "cell_type": "code",
   "execution_count": null,
   "metadata": {},
   "outputs": [],
   "source": []
  },
  {
   "cell_type": "code",
   "execution_count": null,
   "metadata": {},
   "outputs": [],
   "source": []
  },
  {
   "cell_type": "code",
   "execution_count": null,
   "metadata": {},
   "outputs": [],
   "source": []
  },
  {
   "cell_type": "code",
   "execution_count": null,
   "metadata": {},
   "outputs": [],
   "source": []
  },
  {
   "cell_type": "code",
   "execution_count": null,
   "metadata": {},
   "outputs": [],
   "source": []
  },
  {
   "cell_type": "code",
   "execution_count": null,
   "metadata": {},
   "outputs": [],
   "source": []
  },
  {
   "cell_type": "code",
   "execution_count": null,
   "metadata": {},
   "outputs": [],
   "source": []
  },
  {
   "cell_type": "code",
   "execution_count": null,
   "metadata": {},
   "outputs": [],
   "source": []
  },
  {
   "cell_type": "code",
   "execution_count": null,
   "metadata": {},
   "outputs": [],
   "source": []
  },
  {
   "cell_type": "code",
   "execution_count": null,
   "metadata": {},
   "outputs": [],
   "source": []
  },
  {
   "cell_type": "code",
   "execution_count": null,
   "metadata": {},
   "outputs": [],
   "source": []
  },
  {
   "cell_type": "code",
   "execution_count": null,
   "metadata": {},
   "outputs": [],
   "source": []
  },
  {
   "cell_type": "code",
   "execution_count": null,
   "metadata": {},
   "outputs": [],
   "source": []
  }
 ],
 "metadata": {
  "kernelspec": {
   "display_name": "Python 3 (ipykernel)",
   "language": "python",
   "name": "python3"
  },
  "language_info": {
   "codemirror_mode": {
    "name": "ipython",
    "version": 3
   },
   "file_extension": ".py",
   "mimetype": "text/x-python",
   "name": "python",
   "nbconvert_exporter": "python",
   "pygments_lexer": "ipython3",
   "version": "3.8.10"
  },
  "livereveal": {
   "autolaunch": true
  },
  "toc": {
   "base_numbering": 1,
   "nav_menu": {},
   "number_sections": true,
   "sideBar": true,
   "skip_h1_title": false,
   "title_cell": "Table of Contents",
   "title_sidebar": "Contents",
   "toc_cell": false,
   "toc_position": {},
   "toc_section_display": true,
   "toc_window_display": false
  }
 },
 "nbformat": 4,
 "nbformat_minor": 4
}
