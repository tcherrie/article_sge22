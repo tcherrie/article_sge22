{
 "cells": [
  {
   "cell_type": "markdown",
   "metadata": {},
   "source": [
    "# Maximisation couple moyen (non-linéaire)\n",
    "\n",
    "Ce notebook propose d'optimiser le rotor d'une machine synchro-réluctante sans aimant à une paire de pôle en vue de maximiser le couple moyen.\n",
    "Dans ce cas particulier, le couple moyen est directement relié à la différence de perméance magnétique du rotor dans l'axe direct d et l'axe en quadrature q.\n",
    "\n",
    "Le problème étudié est donc la maximisation de cette différence de perméance via la différence de compliance magnétique. Il est possible de démontrer que ce problème est mal posé."
   ]
  },
  {
   "cell_type": "code",
   "execution_count": 1,
   "metadata": {},
   "outputs": [
    {
     "name": "stdout",
     "output_type": "stream",
     "text": [
      "importing NGSolve-6.2.2105-9-g5a835126f\n"
     ]
    }
   ],
   "source": [
    "from ngsolve import *\n",
    "from ngsolve.webgui import Draw\n",
    "from netgen.geom2d import SplineGeometry\n",
    "from netgen.geom2d import CSG2d, Circle, Rectangle\n",
    "#from netgen.geom2d import unit_square\n",
    "from copy import copy\n",
    "from numpy.random import randint\n",
    "import numpy as np\n",
    "import matplotlib.pyplot as plt\n",
    "from ngsolve.solvers import Newton"
   ]
  },
  {
   "cell_type": "markdown",
   "metadata": {},
   "source": [
    "## 1) Définition du maillage\n",
    "\n",
    "La première étape consiste à définir une géométrie (disque), ainsi que la finesse de maillage associée."
   ]
  },
  {
   "cell_type": "code",
   "execution_count": 2,
   "metadata": {},
   "outputs": [],
   "source": [
    "def generate_fitted_circle_mesh(N):\n",
    "    geo = CSG2d()\n",
    "    R=1\n",
    "    x = R*2*(np.append(np.insert(np.arange(0.5,N+0.5),0,0),N)/N-0.5)\n",
    "    \n",
    "    circle1 = Circle( center=(0,0), radius=R, bc=\"left_up\" ) * Rectangle( pmin=(-R,0), pmax=(0,R))\n",
    "    circle2 = Circle( center=(0,0), radius=R, bc=\"left_bot\" ) * Rectangle( pmin=(-R,-R), pmax=(0,0))\n",
    "    circle3 = Circle( center=(0,0), radius=R, bc=\"right_bot\" ) * Rectangle( pmin=(0,-R), pmax=(R,0))\n",
    "    circle4 = Circle( center=(0,0), radius=R, bc=\"right_up\" ) * Rectangle( pmin=(0,0), pmax=(R,R))\n",
    "    \n",
    "    materials = [\"iron\",\"air\"]\n",
    "    \n",
    "    for i in range(len(x)-1):\n",
    "        geo.Add(Rectangle( pmin=(x[i],-R), pmax=(x[i+1],R), mat = materials[i%2] ) * (circle1 + circle2 + circle3 +circle4))\n",
    "\n",
    "    #m = geo.GenerateMesh(maxh=max([R/N,1/30])) # On doit fixer la taille du maillage sinon le volume change à cause des elts grossiers\n",
    "    m = geo.GenerateMesh(maxh=1/70)\n",
    "    return Mesh(m)\n"
   ]
  },
  {
   "cell_type": "markdown",
   "metadata": {},
   "source": [
    "## 2) Définition des problèmes éléments finis\n",
    "\n",
    "L'objectif est ici de maximiser la différence de compliance magnétique pour deux chargement distincts. On va résoudre le problème magnétostatique dual ; pour cela, remarquons qu'en l'absence de termes sources:\n",
    "\n",
    "$$ \\overrightarrow{\\text{rot}} ~ \\overrightarrow{h} = 0 $$\n",
    "\n",
    "On pose donc $\\phi$ un potentiel scalaire tel que $\\overrightarrow{h} = \\overrightarrow{\\text{grad}} ~ \\phi$, qui vérifie donc dans $\\Omega$:\n",
    "$$ \\text{div}( \\mu ~\\overrightarrow{\\text{grad}} ~ \\phi ) = 0 $$\n",
    "\n",
    "$\\phi$ est un champ scalaire qu'on va supposer appartenant à $H^1$. Les conditions aux bords sont de Neumann. La solution est unique à une constante près. Les deux problèmes à résoudre s'écrivent donc :\n",
    "\n",
    "$$\\left \\{\n",
    "\\begin{array}{l}\n",
    "     \\text{div}( \\mu ~\\overrightarrow{\\text{grad}} ~ \\phi ) = 0 \\\\\n",
    "     \\frac{\\partial \\phi}{\\partial n} = \\Phi ~ \\text{sur} ~ \\Gamma_1 \\bigcup \\Gamma_2 \\\\\n",
    "     \\frac{\\partial \\phi}{\\partial n} = - \\Phi ~ \\text{sur} ~ \\Gamma_3 \\bigcup \\Gamma_4 \n",
    "\\end{array}\n",
    "\\right. $$\n",
    "\n",
    "$$\\left \\{\n",
    "\\begin{array}{l}\n",
    "     \\text{div}( \\mu ~\\overrightarrow{\\text{grad}} ~ \\phi ) = 0 \\\\\n",
    "     \\frac{\\partial \\phi}{\\partial n} = \\Phi ~ \\text{sur} ~ \\Gamma_2 \\bigcup \\Gamma_3 \\\\\n",
    "     \\frac{\\partial \\phi}{\\partial n} = - \\Phi ~ \\text{sur} ~ \\Gamma_1 \\bigcup \\Gamma_4 \n",
    "\\end{array}\n",
    "\\right. $$\n"
   ]
  },
  {
   "cell_type": "markdown",
   "metadata": {},
   "source": [
    "Sous forme faible, ce problème s'écrit donc :\n",
    "\n",
    "$$\\forall \\psi \\in H^1, \\underbrace{\\int_{\\Omega} ~\\overrightarrow{\\text{grad}} ~ \\psi \\cdot  \\mu ~\\overrightarrow{\\text{grad}} ~ \\phi}_{\\text{forme bilinéaire} } = \\underbrace{\\int_{\\Gamma_+} \\psi \\Phi - \\int_{\\Gamma_-} \\psi \\Phi}_{\\text{forme linéaire}} $$\n",
    "\n",
    "Par ailleurs, on suppose que $\\mu$ est constante par morceau. On suppose aussi que $\\mu$ dépend de $h$ de la façon suivante :\n",
    "\n",
    "$$ \\mu(h) = \\mu_0 *\\left(1 + 0.25 \\frac{20 h}{1 + (20 h)^2 / h_{sat}} \\right)  $$\n",
    "\n",
    "Avec $h_{sat} = 10 kA/m$."
   ]
  },
  {
   "cell_type": "code",
   "execution_count": 3,
   "metadata": {},
   "outputs": [],
   "source": [
    "hsat = 6000\n",
    "mu0 = 4e-7*np.pi\n",
    "\n",
    "\n",
    "def B(h):\n",
    "    return mu0*(1000*h-(atan(h/hsat)/pi+0.5)*999.*h );\n",
    "\n",
    "\n",
    "def h2mu(h):\n",
    "    return B(h)/h\n",
    "\n",
    "def mu(phi,mesh):\n",
    "    mu0 = 4e-7*np.pi\n",
    "    return mesh.MaterialCF({ \"iron\" : h2mu(sqrt(1e-20+grad(phi)*grad(phi))) }, default=mu0)"
   ]
  },
  {
   "cell_type": "markdown",
   "metadata": {},
   "source": [
    "On définit ensuite les densités"
   ]
  },
  {
   "cell_type": "code",
   "execution_count": 4,
   "metadata": {},
   "outputs": [],
   "source": [
    "PHI = 1;\n",
    "\n",
    "\n",
    "def solvePb(mesh):\n",
    "    fespace_H1 = H1(mesh, order=1)\n",
    "    fespace_H1.FreeDofs()[0] = False\n",
    "    phi = fespace_H1.TrialFunction()\n",
    "    psi = fespace_H1.TestFunction()\n",
    "    \n",
    "    K1 = BilinearForm(fespace_H1, symmetric=True)\n",
    "    K1 +=  grad(psi)*mu(phi,mesh)*grad(phi)*dx\n",
    "    \n",
    "    K2 = BilinearForm(fespace_H1, symmetric=True)\n",
    "    K2 += grad(psi)*mu(phi,mesh)*grad(phi)*dx\n",
    "\n",
    "    K1 += psi*PHI*sqrt(1-x**2)*ds(definedon=mesh.Boundaries(\"right_bot|left_bot\"))\n",
    "    K1 += -psi*PHI*sqrt(1-x**2)*ds(definedon=mesh.Boundaries(\"left_up|right_up\"))\n",
    "\n",
    "    K2 += psi*PHI*sqrt(1-y**2)*ds(definedon=mesh.Boundaries(\"left_up|left_bot\"))\n",
    "    K2 += -psi*PHI*sqrt(1-y**2)*ds(definedon=mesh.Boundaries(\"right_up|right_bot\"))\n",
    "    \n",
    "    phi1 = GridFunction(fespace_H1)\n",
    "    phi2 = GridFunction(fespace_H1)\n",
    "    Newton(K1,phi1, freedofs = fespace_H1.FreeDofs() ,printing=False,maxerr=1e-10)\n",
    "    Newton(K2,phi2, freedofs = fespace_H1.FreeDofs() ,printing=False,maxerr=1e-10)\n",
    "    \n",
    "    #Newton(K1,phi1, freedofs = fespace_H1.FreeDofs())\n",
    "    #Newton(K2,phi2, freedofs = fespace_H1.FreeDofs())\n",
    "    \n",
    "    return(phi1, phi2)\n",
    "\n",
    "def compliance(phi,mesh):\n",
    "    mu = mesh.MaterialCF({ \"iron\" : h2mu(sqrt(1e-12+grad(phi)*grad(phi))) }, default=mu0)\n",
    "    return Integrate(grad(phi)*mu* grad(phi)*dx,mesh)"
   ]
  },
  {
   "attachments": {
    "image.png": {
     "image/png": "[encoded data removed]"
    }
   },
   "cell_type": "markdown",
   "metadata": {},
   "source": [
    "On définit ensuite la stratégie de résolution non-linéaire. On utilise la méthode de Newton, qui consiste à annuler une fonction (le résidu) par approximations affines successives.\n",
    "![image.png](attachment:image.png)\n",
    "\n",
    "En dérivant le résidu, on trouve :\n",
    "\n",
    "$$ \\overbrace{\\langle h^*, \\partial_h [\\mu(h_k) h_k] \\underbrace{(h_{k+1} - h_k)}_{\\Delta h_k} \\rangle}^{\\text{dérivée du résidu}} + \\underbrace{\\langle h^*, \\mu(h_k) h_k \\rangle - l_k(h^*)}_{\\text{résidu}} = 0 $$\n",
    "\n",
    "Avec \n",
    "\n",
    "$$\\partial_h [\\mu(h_k) h_k] = I_d \\mu(h_k) + h_k \\otimes \\partial_|h| \\mu . \\mathrm{d}_\\phi |h|$$\n",
    "\n",
    "Après avoir résolu cette équation, on trouve :\n",
    "\n",
    "$$ h_{k+1} = h_k + \\Delta h_k $$\n",
    "\n",
    "(On peut éventuellementmettre un coefficient d'amortissement)"
   ]
  },
  {
   "cell_type": "code",
   "execution_count": 5,
   "metadata": {},
   "outputs": [
    {
     "name": "stdout",
     "output_type": "stream",
     "text": [
      "[593745.5806340744, 1525020.907615332]\n",
      "[168239.66393164123, 1309579.6411425692]\n",
      "[103972.5989175773, 1279810.0315035044]\n",
      "[78614.87618685522, 1269363.6544817053]\n",
      "[65045.586533047564, 1264317.286437934]\n",
      "[56457.80156454982, 1261441.1814090048]\n",
      "[50543.259632595, 1259614.4907281946]\n",
      "[46175.00317431097, 1258374.3210484185]\n",
      "[42782.32064998684, 1257490.7238499552]\n",
      "[40212.499903897144, 1256822.5227304716]\n",
      "[37832.75521497704, 1256319.3915314018]\n",
      "[36070.6620191813, 1255918.438700617]\n",
      "[34544.918412201485, 1255593.7400913204]\n",
      "[33303.92477400155, 1255325.0107189445]\n",
      "[31999.214164663346, 1255114.6132199413]\n",
      "[30805.919942371147, 1254933.1901889192]\n",
      "[29964.455540110765, 1254773.7589983342]\n"
     ]
    }
   ],
   "source": [
    "J1=[]\n",
    "J2=[]\n",
    "Jdiff = []\n",
    "temoin = []\n",
    "maxN = 70\n",
    "for i in range(2,maxN,4):\n",
    "    mesh = generate_fitted_circle_mesh(i)\n",
    "    phi1, phi2 = solvePb(mesh)\n",
    "    \n",
    "    j1 = compliance(phi1,mesh);\n",
    "    j2 = compliance(phi2,mesh);\n",
    "    print([j1,j2])\n",
    "    J1.append(copy(j1))\n",
    "    J2.append(copy(j2))\n",
    "    Jdiff.append(copy(j1-j2))\n",
    "    t =  GridFunction(L2(mesh))\n",
    "    t.Set(1)\n",
    "    temoin.append(Integrate(1,mesh))"
   ]
  },
  {
   "cell_type": "code",
   "execution_count": 10,
   "metadata": {},
   "outputs": [
    {
     "data": {
      "image/png": "[encoded data removed]",
      "text/plain": [
       "<Figure size 432x288 with 1 Axes>"
      ]
     },
     "metadata": {
      "needs_background": "light"
     },
     "output_type": "display_data"
    }
   ],
   "source": [
    "Jpar = 1./(0.5*2.8411e-04+(1-0.5)*mu0)*pi\n",
    "Jser = (0.5/5.0016e-04+0.5/mu0)*pi\n",
    "\n",
    "plt.semilogy(list(range(2,maxN,4)),J1,'-o')\n",
    "plt.semilogy(list(range(2,maxN,4)),J2,'-o')\n",
    "plt.semilogy([0,maxN],[Jpar,Jpar],'--')\n",
    "plt.semilogy([0,maxN],[Jser,Jser],'--')\n",
    "plt.legend([\"J1\",\"J2\",\"J1 asymptotique\",\"J2 théorique\"])\n",
    "plt.xlabel(\"Nombre de barres\")\n",
    "plt.ylabel(\"Compliance magnétique (J)\")\n",
    "plt.grid()\n",
    "plt.savefig(\"test.pdf\",format = 'pdf')"
   ]
  },
  {
   "cell_type": "code",
   "execution_count": 7,
   "metadata": {},
   "outputs": [],
   "source": [
    "mesh = generate_fitted_circle_mesh(70)\n",
    "phi1, phi2 = solvePb(mesh)"
   ]
  },
  {
   "cell_type": "code",
   "execution_count": 8,
   "metadata": {},
   "outputs": [
    {
     "ename": "NameError",
     "evalue": "name 'phi' is not defined",
     "output_type": "error",
     "traceback": [
      "\u001b[0;31m---------------------------------------------------------------------------\u001b[0m",
      "\u001b[0;31mNameError\u001b[0m                                 Traceback (most recent call last)",
      "\u001b[0;32m/tmp/ipykernel_109/2401677038.py\u001b[0m in \u001b[0;36m<module>\u001b[0;34m\u001b[0m\n\u001b[0;32m----> 1\u001b[0;31m \u001b[0mDraw\u001b[0m\u001b[0;34m(\u001b[0m\u001b[0mmu\u001b[0m\u001b[0;34m(\u001b[0m\u001b[0mphi\u001b[0m\u001b[0;34m,\u001b[0m\u001b[0mmesh\u001b[0m\u001b[0;34m)\u001b[0m\u001b[0;34m*\u001b[0m\u001b[0mgrad\u001b[0m\u001b[0;34m(\u001b[0m\u001b[0mphi1\u001b[0m\u001b[0;34m)\u001b[0m\u001b[0;34m,\u001b[0m\u001b[0mmesh\u001b[0m\u001b[0;34m)\u001b[0m\u001b[0;34m\u001b[0m\u001b[0;34m\u001b[0m\u001b[0m\n\u001b[0m",
      "\u001b[0;31mNameError\u001b[0m: name 'phi' is not defined"
     ]
    }
   ],
   "source": [
    "Draw(mu(phi,mesh)*grad(phi1),mesh)"
   ]
  },
  {
   "cell_type": "markdown",
   "metadata": {},
   "source": [
    "## 3) Optimisation\n",
    "\n"
   ]
  },
  {
   "cell_type": "code",
   "execution_count": null,
   "metadata": {},
   "outputs": [],
   "source": [
    "Jpar"
   ]
  },
  {
   "cell_type": "code",
   "execution_count": null,
   "metadata": {},
   "outputs": [],
   "source": [
    "print(objective(phi1,phi2,rho))"
   ]
  },
  {
   "cell_type": "code",
   "execution_count": null,
   "metadata": {},
   "outputs": [],
   "source": []
  },
  {
   "cell_type": "code",
   "execution_count": null,
   "metadata": {},
   "outputs": [],
   "source": []
  },
  {
   "cell_type": "code",
   "execution_count": null,
   "metadata": {},
   "outputs": [],
   "source": []
  },
  {
   "cell_type": "code",
   "execution_count": null,
   "metadata": {},
   "outputs": [],
   "source": [
    "\n",
    "Draw(rho,mesh)"
   ]
  },
  {
   "cell_type": "code",
   "execution_count": null,
   "metadata": {},
   "outputs": [],
   "source": []
  }
 ],
 "metadata": {
  "kernelspec": {
   "display_name": "Python 3 (ipykernel)",
   "language": "python",
   "name": "python3"
  },
  "language_info": {
   "codemirror_mode": {
    "name": "ipython",
    "version": 3
   },
   "file_extension": ".py",
   "mimetype": "text/x-python",
   "name": "python",
   "nbconvert_exporter": "python",
   "pygments_lexer": "ipython3",
   "version": "3.8.10"
  },
  "livereveal": {
   "autolaunch": true
  },
  "toc": {
   "base_numbering": 1,
   "nav_menu": {},
   "number_sections": true,
   "sideBar": true,
   "skip_h1_title": false,
   "title_cell": "Table of Contents",
   "title_sidebar": "Contents",
   "toc_cell": false,
   "toc_position": {},
   "toc_section_display": true,
   "toc_window_display": false
  }
 },
 "nbformat": 4,
 "nbformat_minor": 4
}
