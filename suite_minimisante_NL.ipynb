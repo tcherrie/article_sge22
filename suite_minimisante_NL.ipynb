{
 "cells": [
  {
   "cell_type": "markdown",
   "metadata": {},
   "source": [
    "# Maximisation couple moyen (non-linéaire)"
   ]
  },
  {
   "cell_type": "code",
   "execution_count": 1,
   "metadata": {},
   "outputs": [
    {
     "name": "stdout",
     "output_type": "stream",
     "text": [
      "importing NGSolve-6.2.2105-9-g5a835126f\n"
     ]
    }
   ],
   "source": [
    "from ngsolve import *\n",
    "from ngsolve.webgui import Draw\n",
    "from netgen.geom2d import CSG2d, Circle, Rectangle\n",
    "from copy import copy\n",
    "import numpy as np\n",
    "import matplotlib.pyplot as plt\n",
    "from ngsolve.solvers import Newton"
   ]
  },
  {
   "cell_type": "markdown",
   "metadata": {},
   "source": [
    "## 1) Définition du maillage\n",
    "\n",
    "La première étape consiste à définir une géométrie (disque), ainsi que la finesse de maillage associée."
   ]
  },
  {
   "cell_type": "code",
   "execution_count": 2,
   "metadata": {},
   "outputs": [],
   "source": [
    "def generate_fitted_circle_mesh(N):\n",
    "    geo = CSG2d()\n",
    "    R=1\n",
    "    x = R*2*(np.append(np.insert(np.arange(0.5,N+0.5),0,0),N)/N-0.5)\n",
    "    \n",
    "    circle1 = Circle( center=(0,0), radius=R, bc=\"left_up\" ) * Rectangle( pmin=(-R,0), pmax=(0,R))\n",
    "    circle2 = Circle( center=(0,0), radius=R, bc=\"left_bot\" ) * Rectangle( pmin=(-R,-R), pmax=(0,0))\n",
    "    circle3 = Circle( center=(0,0), radius=R, bc=\"right_bot\" ) * Rectangle( pmin=(0,-R), pmax=(R,0))\n",
    "    circle4 = Circle( center=(0,0), radius=R, bc=\"right_up\" ) * Rectangle( pmin=(0,0), pmax=(R,R))\n",
    "    \n",
    "    materials = [\"iron\",\"air\"]\n",
    "    \n",
    "    for i in range(len(x)-1):\n",
    "        geo.Add(Rectangle( pmin=(x[i],-R), pmax=(x[i+1],R), mat = materials[i%2] ) * (circle1 + circle2 + circle3 +circle4))\n",
    "\n",
    "    #m = geo.GenerateMesh(maxh=max([R/N,1/30])) # On doit fixer la taille du maillage sinon le volume change à cause des elts grossiers\n",
    "    m = geo.GenerateMesh(maxh=1/N)\n",
    "    return Mesh(m)\n"
   ]
  },
  {
   "cell_type": "markdown",
   "metadata": {},
   "source": [
    "## 2) Définition des problèmes éléments finis"
   ]
  },
  {
   "cell_type": "code",
   "execution_count": 3,
   "metadata": {},
   "outputs": [
    {
     "data": {
      "image/png": "[encoded data removed]",
      "text/plain": [
       "<Figure size 432x288 with 1 Axes>"
      ]
     },
     "metadata": {
      "needs_background": "light"
     },
     "output_type": "display_data"
    },
    {
     "data": {
      "image/png": "[encoded data removed]",
      "text/plain": [
       "<Figure size 432x288 with 2 Axes>"
      ]
     },
     "metadata": {
      "needs_background": "light"
     },
     "output_type": "display_data"
    }
   ],
   "source": [
    "mu_r0 = 1000\n",
    "hsat = 3e6/mu_r0\n",
    "mu0 = 4e-7*np.pi\n",
    "\n",
    "def b(h):\n",
    "    if str(type(h)) == \"<class 'numpy.ndarray'>\":\n",
    "        return mu0*(2*mu_r0*h-(np.arctan(h/hsat)/np.pi+0.5)*(2*mu_r0-1)*h )\n",
    "    return mu0*(2*mu_r0*h-(atan(h/hsat)/np.pi+0.5)*(2*mu_r0-1)*h )\n",
    "\n",
    "def dbdh(h):\n",
    "    if str(type(h)) == \"<class 'numpy.ndarray'>\":\n",
    "        return -mu0*(((2*mu_r0 - 1)*(pi + 2*np.arctan(h/hsat)))/(2*np.pi) - 2*mu_r0 + (h*hsat*(mu_r0 - 1))/(np.pi*(h**2 + hsat**2)))\n",
    "    return -mu0*(((2*mu_r0 - 1)*(pi + 2*atan(h/hsat)))/(2*np.pi) - 2*mu_r0 + (h*hsat*(mu_r0 - 1))/(np.pi*(h**2 + hsat**2)))\n",
    "\n",
    "def mu(phi,rho):\n",
    "    h = sqrt(grad(phi)*grad(phi)+1e-20)\n",
    "    return mu0 + (b(h)/h-mu0)*rho\n",
    "\n",
    "def dmudh(phi,rho):\n",
    "    h = sqrt(grad(phi)*grad(phi)+1e-20)\n",
    "    return rho*(dbdh(h)/h - b(h)/(h**2))\n",
    "\n",
    "H = np.linspace(1e-6,1e5,1000)\n",
    "mu_r = b(H)/(H*mu0)\n",
    "dmu_rdh =  (dbdh(H)/H - b(H)/(H**2))/mu0\n",
    "\n",
    "plt.plot(H,b(H), 'b-') ; plt.xlabel('H (A/m)') ; plt.ylabel('B (T)') ; plt.grid()\n",
    "plt.show()\n",
    "\n",
    "fig, ax1 = plt.subplots()\n",
    "ax2 = ax1.twinx()\n",
    "ax1.plot(H,mu_r, 'b-') ; ax2.plot(H,dmu_rdh, 'g-')\n",
    "\n",
    "ax1.set_xlabel('H (A/m)')\n",
    "ax1.set_ylabel('mu_r', color='b')\n",
    "ax2.set_ylabel('dh_mur (m/A)', color='g')\n",
    "\n",
    "plt.show()"
   ]
  },
  {
   "cell_type": "code",
   "execution_count": 4,
   "metadata": {},
   "outputs": [],
   "source": [
    "beta = 1;\n",
    "\n",
    "def solvePb(rho):\n",
    "    fespace_H1 = H1(mesh, order=1)\n",
    "    fespace_H1.FreeDofs()[0] = False\n",
    "    phi = fespace_H1.TrialFunction()\n",
    "    psi = fespace_H1.TestFunction()\n",
    "    \n",
    "    K1 = BilinearForm(fespace_H1, symmetric=True)\n",
    "    K1 +=  grad(psi)*mu(phi,rho)*grad(phi)*dx\n",
    "    K2 = BilinearForm(fespace_H1, symmetric=True)\n",
    "    K2 +=  grad(psi)*mu(phi,rho)*grad(phi)*dx\n",
    "\n",
    "    K1 += psi*beta*sqrt(1-x**2)*ds(definedon=mesh.Boundaries(\"right_bot|left_bot\"))\n",
    "    K1 += -psi*beta*sqrt(1-x**2)*ds(definedon=mesh.Boundaries(\"left_up|right_up\"))\n",
    "\n",
    "    K2 += psi*beta*sqrt(1-y**2)*ds(definedon=mesh.Boundaries(\"right_up|right_bot\"))\n",
    "    K2 += - psi*beta*sqrt(1-y**2)*ds(definedon=mesh.Boundaries(\"left_up|left_bot\"))\n",
    "    \n",
    "    phi1 = GridFunction(fespace_H1)\n",
    "    phi2 = GridFunction(fespace_H1)\n",
    "    Newton(K1,phi1, freedofs = fespace_H1.FreeDofs() ,printing=False, maxit=100, maxerr=2e-10,dampfactor = 0.1)\n",
    "    Newton(K2,phi2, freedofs = fespace_H1.FreeDofs() ,printing=False, maxit=100, maxerr=2e-10,dampfactor = 0.1)\n",
    "    \n",
    "    return(phi1, phi2)"
   ]
  },
  {
   "cell_type": "markdown",
   "metadata": {},
   "source": [
    "On définit ensuite les densités"
   ]
  },
  {
   "cell_type": "code",
   "execution_count": 5,
   "metadata": {},
   "outputs": [],
   "source": [
    "def compliance(rho, phi):\n",
    "    return Integrate(grad(phi)*mu(phi,rho)* grad(phi),mesh)/2\n",
    "\n",
    "def objective(phi1,phi2,rho):\n",
    "    return compliance(rho, phi1) - compliance(rho, phi2)\n",
    "\n",
    "\n",
    "def solveAdjoint(rho,phi1,phi2):\n",
    "    fespace_H1 = H1(mesh, order=1)\n",
    "    fespace_H1.FreeDofs()[0] = False\n",
    "    \n",
    "    phi = fespace_H1.TrialFunction()\n",
    "    psi = fespace_H1.TestFunction()\n",
    "    \n",
    "    dK1 = BilinearForm(fespace_H1, symmetric=True)\n",
    "    dK1 +=  grad(psi)*mu(phi,rho)*grad(phi)*dx\n",
    "    dK2 = BilinearForm(fespace_H1, symmetric=True)\n",
    "    dK2 +=  grad(psi)*mu(phi,rho)*grad(phi)*dx\n",
    "    \n",
    "    dK1.AssembleLinearization(phi1.vec)\n",
    "    dK2.AssembleLinearization(phi2.vec)\n",
    "    \n",
    "    dJ1 = LinearForm(fespace_H1)\n",
    "    #dJ1 +=  - dmu1*InnerProduct(grad(phi1),OuterProduct(grad(phi1),grad(phi1))*grad(psi))/sqrt(1e-12+grad(phi1)*grad(phi1))*dx\n",
    "    # on peut faire plus court (équivalent) : \n",
    "    \n",
    "    norm_h1 = sqrt(1e-12+grad(phi1)*grad(phi1))\n",
    "    dJ1 += (dmudh(phi1,rho)*norm_h1*grad(phi1)*grad(psi)/2 + mu(phi1,rho)*grad(phi1)*grad(psi))*dx \n",
    "    \n",
    "    norm_h2 = sqrt(1e-12+grad(phi2)*grad(phi2))\n",
    "    dJ2 = LinearForm(fespace_H1)\n",
    "    dJ2 += - (dmudh(phi2,rho)*norm_h2*grad(phi2)*grad(psi)/2 + mu(phi2,rho)*grad(psi)*grad(phi2))*dx \n",
    "\n",
    "    dJ1.Assemble()\n",
    "    dJ2.Assemble()\n",
    "    \n",
    "    lb1 = GridFunction(fespace_H1)\n",
    "    lb2 = GridFunction(fespace_H1)\n",
    "    \n",
    "    lb1.vec.data = (dK1.mat.Inverse(fespace_H1.FreeDofs(), inverse=\"sparsecholesky\").T * dJ1.vec)\n",
    "    lb2.vec.data = (dK2.mat.Inverse(fespace_H1.FreeDofs(), inverse=\"sparsecholesky\").T * dJ2.vec)\n",
    "    \n",
    "    \n",
    "    return lb1,lb2"
   ]
  },
  {
   "cell_type": "code",
   "execution_count": 6,
   "metadata": {},
   "outputs": [],
   "source": [
    "def gradient(rho,phi1,phi2,lb1,lb2):\n",
    "    mu1 = mu(phi1,rho)\n",
    "    mu2 = mu(phi2,rho)\n",
    "    Lag = (grad(lb1)*mu1*grad(phi1) + grad(lb2)*mu2*grad(phi2))*dx # FV\n",
    "    Lag += (grad(phi1)*mu1* grad(phi1) -  grad(phi2)*mu2* grad(phi2))/2*dx # fonction objectif\n",
    "    rho_test = rho.space.TestFunction()\n",
    "    temp = LinearForm(rho.space)\n",
    "    temp += Lag.Diff(rho,rho_test)\n",
    "    temp.Assemble()\n",
    "    r_temp = GridFunction(rho.space)\n",
    "    r_temp.vec.data = temp.vec\n",
    "    return r_temp"
   ]
  },
  {
   "cell_type": "markdown",
   "metadata": {},
   "source": [
    "## Optimisation"
   ]
  },
  {
   "cell_type": "code",
   "execution_count": null,
   "metadata": {},
   "outputs": [
    {
     "name": "stdout",
     "output_type": "stream",
     "text": [
      "-0.2738215926765406 - step : 0.1\n",
      "-8499.296194528706 - step : 0.1\n",
      "-111049.12151121808 - step : 0.12\n",
      "-260960.98443404204 - step : 0.144\n",
      "-409760.44349191803 - step : 0.17279999999999998\n",
      "-457572.09947537875 - step : 0.20735999999999996\n",
      "-468574.5014296991 - step : 0.24883199999999994\n",
      "Warning: Newton might not converge! Error =  454.3442286922095\n",
      "-528334.8781445208 - step : 0.29859839999999993\n",
      "-474411.49787122203 - step : 0.3583180799999999\n",
      "-479060.2245387725 - step : 0.17915903999999996\n",
      "-483696.6753021128 - step : 0.21499084799999996\n"
     ]
    }
   ],
   "source": [
    "mesh = generate_fitted_circle_mesh(40)\n",
    "fespace_rho = L2(mesh, order=0)\n",
    "rho = GridFunction(fespace_rho)\n",
    "rho.Set(0.5)\n",
    "\n",
    "objFuncList = []\n",
    "rhoList = []\n",
    "descentList = []\n",
    "step = 0.1\n",
    "descent = GridFunction(fespace_rho)\n",
    "flag = False\n",
    "for i in range(200):\n",
    "    \n",
    "    # Calculs état direct, adjoint et direction de descente\n",
    "    phi1,phi2 = solvePb(rho)\n",
    "    lb1,lb2 = solveAdjoint(rho,phi1,phi2)\n",
    "    descent.Set(gradient(rho,phi1,phi2,lb1,lb2))\n",
    "    descent.vec[:] = np.sign(descent.vec[:].FV().NumPy())\n",
    "    \n",
    "    rhoList.append(copy(rho))\n",
    "    objFuncList.append(objective(phi1,phi2,rho))\n",
    "    descentList.append(copy(descent))\n",
    "    \n",
    "    print(f'{objFuncList[-1]} - step : {step}')\n",
    "    \n",
    "    if i>0 and objFuncList[-1]< objFuncList[-2]:\n",
    "        step = step*1.2\n",
    "    elif i>0:\n",
    "        step = step/2\n",
    "      \n",
    "    rho.Set(rhoList[i] + descentList[i]*step)\n",
    "    rho.vec[:].FV().NumPy()[rho.vec[:].FV().NumPy()<0]=0\n",
    "    rho.vec[:].FV().NumPy()[rho.vec[:].FV().NumPy()>1]=1\n",
    "    \n",
    "    if np.isnan(np.sum(rho.vec[:].FV().NumPy())):\n",
    "        break\n",
    "    if step < 1e-4:\n",
    "        break"
   ]
  },
  {
   "cell_type": "code",
   "execution_count": null,
   "metadata": {},
   "outputs": [],
   "source": []
  },
  {
   "cell_type": "code",
   "execution_count": null,
   "metadata": {},
   "outputs": [],
   "source": []
  },
  {
   "cell_type": "code",
   "execution_count": null,
   "metadata": {},
   "outputs": [],
   "source": []
  },
  {
   "cell_type": "markdown",
   "metadata": {},
   "source": [
    "## 3) Optimisation\n",
    "\n"
   ]
  },
  {
   "cell_type": "code",
   "execution_count": null,
   "metadata": {},
   "outputs": [],
   "source": []
  },
  {
   "cell_type": "code",
   "execution_count": null,
   "metadata": {},
   "outputs": [],
   "source": []
  },
  {
   "cell_type": "code",
   "execution_count": null,
   "metadata": {},
   "outputs": [],
   "source": []
  },
  {
   "cell_type": "code",
   "execution_count": null,
   "metadata": {},
   "outputs": [],
   "source": []
  },
  {
   "cell_type": "code",
   "execution_count": null,
   "metadata": {},
   "outputs": [],
   "source": []
  },
  {
   "cell_type": "code",
   "execution_count": null,
   "metadata": {},
   "outputs": [],
   "source": []
  },
  {
   "cell_type": "code",
   "execution_count": null,
   "metadata": {},
   "outputs": [],
   "source": []
  }
 ],
 "metadata": {
  "kernelspec": {
   "display_name": "Python 3 (ipykernel)",
   "language": "python",
   "name": "python3"
  },
  "language_info": {
   "codemirror_mode": {
    "name": "ipython",
    "version": 3
   },
   "file_extension": ".py",
   "mimetype": "text/x-python",
   "name": "python",
   "nbconvert_exporter": "python",
   "pygments_lexer": "ipython3",
   "version": "3.8.10"
  },
  "livereveal": {
   "autolaunch": true
  },
  "toc": {
   "base_numbering": 1,
   "nav_menu": {},
   "number_sections": true,
   "sideBar": true,
   "skip_h1_title": false,
   "title_cell": "Table of Contents",
   "title_sidebar": "Contents",
   "toc_cell": false,
   "toc_position": {},
   "toc_section_display": true,
   "toc_window_display": false
  }
 },
 "nbformat": 4,
 "nbformat_minor": 4
}
