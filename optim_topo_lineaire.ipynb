{
 "cells": [
  {
   "cell_type": "markdown",
   "metadata": {},
   "source": [
    "# Optimisation topologique linéaire"
   ]
  },
  {
   "cell_type": "code",
   "execution_count": 1,
   "metadata": {},
   "outputs": [
    {
     "name": "stdout",
     "output_type": "stream",
     "text": [
      "importing NGSolve-6.2.2105-9-g5a835126f\n"
     ]
    }
   ],
   "source": [
    "from ngsolve import *\n",
    "from ngsolve.webgui import Draw\n",
    "from netgen.geom2d import CSG2d, Circle, Rectangle\n",
    "from copy import copy\n",
    "import numpy as np\n",
    "import matplotlib.pyplot as plt"
   ]
  },
  {
   "cell_type": "markdown",
   "metadata": {},
   "source": [
    "## 1) Définition du maillage"
   ]
  },
  {
   "cell_type": "code",
   "execution_count": 3,
   "metadata": {},
   "outputs": [],
   "source": [
    "def generate_fitted_circle_mesh(N):\n",
    "    geo = CSG2d()\n",
    "    R=1\n",
    "    x = R*2*(np.append(np.insert(np.arange(0.5,N+0.5),0,0),N)/N-0.5)\n",
    "    \n",
    "    circle1 = Circle( center=(0,0), radius=R, bc=\"left_up\" ) * Rectangle( pmin=(-R,0), pmax=(0,R))\n",
    "    circle2 = Circle( center=(0,0), radius=R, bc=\"left_bot\" ) * Rectangle( pmin=(-R,-R), pmax=(0,0))\n",
    "    circle3 = Circle( center=(0,0), radius=R, bc=\"right_bot\" ) * Rectangle( pmin=(0,-R), pmax=(R,0))\n",
    "    circle4 = Circle( center=(0,0), radius=R, bc=\"right_up\" ) * Rectangle( pmin=(0,0), pmax=(R,R))\n",
    "    \n",
    "    materials = [\"iron\",\"air\"]\n",
    "    \n",
    "    for i in range(len(x)-1):\n",
    "        geo.Add(Rectangle( pmin=(x[i],-R), pmax=(x[i+1],R), mat = materials[i%2] ) * (circle1 + circle2 + circle3 +circle4))\n",
    "\n",
    "    #m = geo.GenerateMesh(maxh=max([R/N,1/30])) # On doit fixer la taille du maillage sinon le volume change à cause des elts grossiers\n",
    "    m = geo.GenerateMesh(maxh=1/N)\n",
    "    return Mesh(m)\n",
    "\n",
    "#Draw (mesh)"
   ]
  },
  {
   "cell_type": "markdown",
   "metadata": {},
   "source": [
    "## 2) Définition des problèmes éléments finis"
   ]
  },
  {
   "cell_type": "code",
   "execution_count": 2,
   "metadata": {},
   "outputs": [],
   "source": [
    "beta = 1;\n",
    "\n",
    "def solvePb(mu,mesh):\n",
    "    fespace_H1 = H1(mesh, order=1)\n",
    "    fespace_H1.FreeDofs()[0] = False\n",
    "    phi = fespace_H1.TrialFunction()\n",
    "    psi = fespace_H1.TestFunction()\n",
    "    K = BilinearForm(fespace_H1, symmetric=True)\n",
    "    K +=  InnerProduct(grad(psi),mu*grad(phi))*dx\n",
    "\n",
    "    n= specialcf.normal(mesh.dim);\n",
    "    \n",
    "    l1 = LinearForm(fespace_H1)\n",
    "    l1 += -psi* beta * sqrt(1-x*x)* ds(definedon=mesh.Boundaries(\"right_bot|left_bot\"))\n",
    "    l1 += psi*beta* sqrt(1-x*x)*ds(definedon=mesh.Boundaries(\"right_up|left_up\"))\n",
    "\n",
    "    l2 = LinearForm(fespace_H1)\n",
    "    l2 += -psi*beta*sqrt(1-y*y)*ds(definedon=mesh.Boundaries(\"right_bot|right_up\"))\n",
    "    l2 += psi*beta*sqrt(1-y*y)*ds(definedon=mesh.Boundaries(\"left_bot|left_up\"))\n",
    "    \n",
    "    K.Assemble()\n",
    "    l1.Assemble()\n",
    "    l2.Assemble()\n",
    "    \n",
    "    phi1 = GridFunction(fespace_H1)  # solution\n",
    "    phi1.vec.data =     K.mat.Inverse(inverse=\"sparsecholesky\") * l1.vec\n",
    "    phi2 = GridFunction(fespace_H1)  # solution\n",
    "    phi2.vec.data =     K.mat.Inverse(inverse=\"sparsecholesky\") * l2.vec\n",
    "    \n",
    "    return(phi1, phi2)"
   ]
  },
  {
   "cell_type": "markdown",
   "metadata": {},
   "source": [
    "## 3) Optimisation\n",
    "\n",
    "Le problème est auto-adjoint. Ainsi, l'adjoint s'écrit $\\psi = -\\phi$ et l'identification $\\mathcal{L}^2$ du gradient par rapport à $\\mu$ s'écrit:\n",
    "$$\\partial_\\mu \\mathcal{L} = -\\int_\\Omega |\\nabla \\phi|^2 $$"
   ]
  },
  {
   "cell_type": "code",
   "execution_count": 8,
   "metadata": {},
   "outputs": [],
   "source": [
    "def gradient(phi1,phi2):\n",
    "    return(-grad(phi1)*grad(phi1) + grad(phi2)*grad(phi2))\n",
    "\n",
    "def compliance(phi,mu,mesh):\n",
    "    return Integrate(grad(phi)*mu* grad(phi), mesh) /2"
   ]
  },
  {
   "cell_type": "code",
   "execution_count": 9,
   "metadata": {
    "scrolled": true
   },
   "outputs": [
    {
     "name": "stdout",
     "output_type": "stream",
     "text": [
      "-23714.93745705127 - mu_r = 1.2589254117941673 - mesh = 1/10\n",
      "-120984.57711523931 - mu_r = 1.7890874899232194 - mesh = 1/10\n",
      "-235611.73174910533 - mu_r = 2.542512857880971 - mesh = 1/10\n",
      "-424899.84269052144 - mu_r = 3.6132227567962514 - mesh = 1/10\n",
      "-149990.55310021198 - mu_r = 5.134832907437552 - mesh = 1/10\n",
      "-720962.5805503816 - mu_r = 7.297227644686393 - mesh = 1/10\n",
      "-822638.3402792383 - mu_r = 10.370255908667641 - mesh = 1/10\n",
      "-860433.6244734006 - mu_r = 14.737406155824797 - mesh = 1/10\n",
      "-997130.7701825574 - mu_r = 20.943662539726763 - mesh = 1/10\n",
      "-1058520.528570489 - mu_r = 29.763514416313193 - mesh = 1/10\n",
      "-1024653.9085061894 - mu_r = 42.297606196133856 - mesh = 1/10\n",
      "-1111355.8325746795 - mu_r = 60.11008864405587 - mesh = 1/10\n",
      "-1086588.08322199 - mu_r = 85.42381193020124 - mesh = 1/10\n",
      "-1073319.9851902607 - mu_r = 121.3977189070074 - mesh = 1/10\n",
      "-1095753.92111032 - mu_r = 172.5210549942041 - mesh = 1/10\n",
      "-1115346.8237594229 - mu_r = 245.17358879792891 - mesh = 1/10\n",
      "-1165058.528594216 - mu_r = 348.42175435383984 - mesh = 1/10\n",
      "-1137733.1247597141 - mu_r = 495.1500669473131 - mesh = 1/10\n"
     ]
    },
    {
     "name": "stderr",
     "output_type": "stream",
     "text": [
      "no more timer available, reusing last one\n"
     ]
    },
    {
     "name": "stdout",
     "output_type": "stream",
     "text": [
      "-1100908.2784967462 - mu_r = 703.6690038273064 - mesh = 1/10\n",
      "-952339.2913990734 - mu_r = 1000.0 - mesh = 1/10\n",
      "-20787.817038852943 - mu_r = 1.2589254117941673 - mesh = 1/20\n",
      "-127331.71705000936 - mu_r = 1.7890874899232194 - mesh = 1/20\n",
      "-288967.781669348 - mu_r = 2.542512857880971 - mesh = 1/20\n",
      "-465310.795182862 - mu_r = 3.6132227567962514 - mesh = 1/20\n",
      "-626887.6825136257 - mu_r = 5.134832907437552 - mesh = 1/20\n",
      "-811103.1525193715 - mu_r = 7.297227644686393 - mesh = 1/20\n",
      "-918587.4064944437 - mu_r = 10.370255908667641 - mesh = 1/20\n",
      "-1035056.3824897081 - mu_r = 14.737406155824797 - mesh = 1/20\n",
      "-1110044.024663784 - mu_r = 20.943662539726763 - mesh = 1/20\n",
      "-1154554.3133438583 - mu_r = 29.763514416313193 - mesh = 1/20\n",
      "-1220863.9474136506 - mu_r = 42.297606196133856 - mesh = 1/20\n",
      "-1259908.6940610372 - mu_r = 60.11008864405587 - mesh = 1/20\n",
      "-1299243.2283827316 - mu_r = 85.42381193020124 - mesh = 1/20\n",
      "-1287625.2886392924 - mu_r = 121.3977189070074 - mesh = 1/20\n",
      "-1328155.3913784355 - mu_r = 172.5210549942041 - mesh = 1/20\n",
      "-1325447.6585321901 - mu_r = 245.17358879792891 - mesh = 1/20\n",
      "-664617.1698407398 - mu_r = 348.42175435383984 - mesh = 1/20\n",
      "-1348335.6765716877 - mu_r = 495.1500669473131 - mesh = 1/20\n",
      "-1346972.5440180504 - mu_r = 703.6690038273064 - mesh = 1/20\n",
      "-1358330.3602796518 - mu_r = 1000.0 - mesh = 1/20\n",
      "-24673.983254999825 - mu_r = 1.2589254117941673 - mesh = 1/40\n",
      "-133314.00048634355 - mu_r = 1.7890874899232194 - mesh = 1/40\n",
      "-296651.718001245 - mu_r = 2.542512857880971 - mesh = 1/40\n",
      "-478866.6186019714 - mu_r = 3.6132227567962514 - mesh = 1/40\n",
      "-121628.90218293353 - mu_r = 5.134832907437552 - mesh = 1/40\n",
      "-809310.8428389308 - mu_r = 7.297227644686393 - mesh = 1/40\n",
      "-931891.8680799165 - mu_r = 10.370255908667641 - mesh = 1/40\n",
      "-1043749.2805803594 - mu_r = 14.737406155824797 - mesh = 1/40\n",
      "-1124262.5716388563 - mu_r = 20.943662539726763 - mesh = 1/40\n",
      "-1219855.2689334848 - mu_r = 29.763514416313193 - mesh = 1/40\n",
      "-1296769.9565881703 - mu_r = 42.297606196133856 - mesh = 1/40\n",
      "-1341488.5347930517 - mu_r = 60.11008864405587 - mesh = 1/40\n",
      "-1373747.6145214266 - mu_r = 85.42381193020124 - mesh = 1/40\n",
      "-1409959.939552327 - mu_r = 121.3977189070074 - mesh = 1/40\n",
      "-1413900.7936082804 - mu_r = 172.5210549942041 - mesh = 1/40\n",
      "-1457879.5491754073 - mu_r = 245.17358879792891 - mesh = 1/40\n",
      "-1551670.2503325113 - mu_r = 348.42175435383984 - mesh = 1/40\n",
      "-1602816.662898984 - mu_r = 495.1500669473131 - mesh = 1/40\n",
      "-1450302.2717096058 - mu_r = 703.6690038273064 - mesh = 1/40\n",
      "-1393439.4776198477 - mu_r = 1000.0 - mesh = 1/40\n"
     ]
    }
   ],
   "source": [
    "mur = np.logspace(0.1,4,20)\n",
    "mu0 = 4e-7*3.14\n",
    "Nmesh = 40;\n",
    "resultMU= []\n",
    "resultJ = []\n",
    "resultJpar = []\n",
    "resultJser = []\n",
    "\n",
    "for j in range(len(mur)):\n",
    "    fespace_mu = L2(mesh, order=0)    \n",
    "    mu = GridFunction(fespace_mu)\n",
    "    mu.Set(mur(j)/2*mu0);\n",
    "    J=[]\n",
    "    step = (mu_max-mu0)/10\n",
    "    g = GridFunction(fespace_mu)\n",
    "    MU=[]\n",
    "    for i in range(1000):\n",
    "        phi1, phi2 = solvePb(mu,mesh)\n",
    "        g.Set(gradient(phi1,phi2))\n",
    "        g.vec[:]= np.sign(g.vec[:].FV().NumPy())\n",
    "        resultJpar = compliance(phi1,mu,mesh)\n",
    "        resultJser.append() = compliance(phi1,mu,mesh)\n",
    "        resultJ.append(objective(phi1,phi2,mu))\n",
    "        MU.append(copy(mu))\n",
    "        \n",
    "        if i>0 and J[-1]< J[-2]:\n",
    "            step = step*1.2\n",
    "        elif i>0:\n",
    "            step = step/2\n",
    "        \n",
    "        mu.Set(MU[i] - g*step)\n",
    "        mu.vec[:].FV().NumPy()[mu.vec[:].FV().NumPy()<mu0]=mu0\n",
    "        mu.vec[:].FV().NumPy()[mu.vec[:].FV().NumPy()>mu_max]=mu_max\n",
    "        if np.isnan(np.sum(mu.vec[:].FV().NumPy())):\n",
    "            break\n",
    "        if step/(mu_max-mu0) < 1e-4:\n",
    "            break\n",
    "    resultMU.append(copy(MU[-2]))\n",
    "    lastJ.append(copy(J[-2]))\n",
    "        print(f'{lastJ[-1]} - mu_r = {mur[j]} - mesh = 1/{N}')\n",
    "    resultJ.append(copy(lastJ))\n",
    "    resultMU.append(copy(lastMU))\n",
    "\n",
    "for k in range(len(Nmesh)):\n",
    "    lastMU = []\n",
    "    lastJ = []\n",
    "    N = Nmesh[k]\n",
    "    mesh = generate_fitted_circle_mesh(N)\n",
    "\n",
    "    for j in range(len(mur)):\n",
    "        fespace_mu = L2(mesh, order=0)    \n",
    "        mu = GridFunction(fespace_mu)\n",
    "        s = randint(3, size=len(mu.vec[:].FV()))-1\n",
    "        #mu.vec[:]= 4e-7*3.14*(2+s[:]) # situation initiale aléatoire\n",
    "        mu.vec[:]= 4e-7*3.14*1.5 # situation initiale uniforme\n",
    "        J=[]\n",
    "        mu0 = 4e-7*3.14\n",
    "        mu_max = mur[j]* mu0\n",
    "        step = (mu_max-mu0)/3\n",
    "        g = GridFunction(fespace_mu)\n",
    "        MU=[]\n",
    "        for i in range(1000):\n",
    "            phi1, phi2 = solvePb(mu,mesh)\n",
    "            g.Set(gradient(phi1,phi2))\n",
    "            g.vec[:]= np.sign(g.vec[:].FV().NumPy())\n",
    "            J.append(objective(phi1,phi2,mu))\n",
    "            MU.append(copy(mu))\n",
    "        \n",
    "            if i>0 and J[-1]< J[-2]:\n",
    "                step = step*1.2\n",
    "            elif i>0:\n",
    "                step = step/2\n",
    "        \n",
    "            mu.Set(MU[i] - g*step)\n",
    "            mu.vec[:].FV().NumPy()[mu.vec[:].FV().NumPy()<mu0]=mu0\n",
    "            mu.vec[:].FV().NumPy()[mu.vec[:].FV().NumPy()>mu_max]=mu_max\n",
    "            if np.isnan(np.sum(mu.vec[:].FV().NumPy())):\n",
    "                break\n",
    "            if step/(mu_max-mu0) < 1e-4:\n",
    "                break\n",
    "        lastMU.append(copy(MU[-2]))\n",
    "        lastJ.append(copy(J[-2]))\n",
    "        print(f'{lastJ[-1]} - mu_r = {mur[j]} - mesh = 1/{N}')\n",
    "    resultJ.append(copy(lastJ))\n",
    "    resultMU.append(copy(lastMU))"
   ]
  },
  {
   "cell_type": "code",
   "execution_count": 10,
   "metadata": {
    "scrolled": true
   },
   "outputs": [
    {
     "data": {
      "application/vnd.jupyter.widget-view+json": {
       "model_id": "39ce349c51b74ffc8e87e8ea01351d51",
       "version_major": 2,
       "version_minor": 0
      },
      "text/plain": [
       "WebGuiWidget(value={'ngsolve_version': '6.2.2105-9-g5a835126f', 'mesh_dim': 2, 'order2d': 2, 'order3d': 2, 'dr…"
      ]
     },
     "metadata": {},
     "output_type": "display_data"
    },
    {
     "data": {
      "text/plain": [
       "BaseWebGuiScene"
      ]
     },
     "execution_count": 10,
     "metadata": {},
     "output_type": "execute_result"
    }
   ],
   "source": [
    "i = 15\n",
    "Draw(lastMU[-1],mesh,min=mu0,max=mur[-1]*mu0)"
   ]
  },
  {
   "cell_type": "code",
   "execution_count": 11,
   "metadata": {},
   "outputs": [],
   "source": [
    "#plt.plot(J)"
   ]
  },
  {
   "cell_type": "code",
   "execution_count": 12,
   "metadata": {},
   "outputs": [
    {
     "data": {
      "text/plain": [
       "<matplotlib.legend.Legend at 0x7f76bee079d0>"
      ]
     },
     "execution_count": 12,
     "metadata": {},
     "output_type": "execute_result"
    },
    {
     "data": {
      "image/png": "[encoded data removed]",
      "text/plain": [
       "<Figure size 432x288 with 1 Axes>"
      ]
     },
     "metadata": {
      "needs_background": "light"
     },
     "output_type": "display_data"
    }
   ],
   "source": [
    "theta_opt = (1-np.sqrt(mur))/(1-mur);\n",
    "Jopt = pi/mu0 * ((theta_opt/mur + (1-theta_opt)) - 1/(theta_opt*mur+ (1-theta_opt)))\n",
    "\n",
    "plt.semilogx(mur,-np.array(lastJ),mur,Jopt)\n",
    "plt.grid()\n",
    "plt.xlabel('mu_r')\n",
    "plt.ylabel('Fonction objectif (J)')\n",
    "plt.legend(['obtenu','maximum théorique'])"
   ]
  },
  {
   "cell_type": "code",
   "execution_count": 13,
   "metadata": {},
   "outputs": [
    {
     "data": {
      "text/plain": [
       "1000.0"
      ]
     },
     "execution_count": 13,
     "metadata": {},
     "output_type": "execute_result"
    }
   ],
   "source": [
    "mur[-1]"
   ]
  },
  {
   "cell_type": "code",
   "execution_count": null,
   "metadata": {},
   "outputs": [],
   "source": []
  },
  {
   "cell_type": "code",
   "execution_count": null,
   "metadata": {},
   "outputs": [],
   "source": []
  },
  {
   "cell_type": "code",
   "execution_count": null,
   "metadata": {},
   "outputs": [],
   "source": []
  },
  {
   "cell_type": "code",
   "execution_count": null,
   "metadata": {},
   "outputs": [],
   "source": []
  },
  {
   "cell_type": "code",
   "execution_count": null,
   "metadata": {},
   "outputs": [],
   "source": []
  },
  {
   "cell_type": "code",
   "execution_count": null,
   "metadata": {},
   "outputs": [],
   "source": []
  },
  {
   "cell_type": "code",
   "execution_count": null,
   "metadata": {},
   "outputs": [],
   "source": []
  },
  {
   "cell_type": "code",
   "execution_count": null,
   "metadata": {},
   "outputs": [],
   "source": []
  },
  {
   "cell_type": "code",
   "execution_count": null,
   "metadata": {},
   "outputs": [],
   "source": []
  },
  {
   "cell_type": "code",
   "execution_count": null,
   "metadata": {},
   "outputs": [],
   "source": []
  },
  {
   "cell_type": "code",
   "execution_count": null,
   "metadata": {},
   "outputs": [],
   "source": []
  },
  {
   "cell_type": "code",
   "execution_count": null,
   "metadata": {},
   "outputs": [],
   "source": []
  }
 ],
 "metadata": {
  "kernelspec": {
   "display_name": "Python 3 (ipykernel)",
   "language": "python",
   "name": "python3"
  },
  "language_info": {
   "codemirror_mode": {
    "name": "ipython",
    "version": 3
   },
   "file_extension": ".py",
   "mimetype": "text/x-python",
   "name": "python",
   "nbconvert_exporter": "python",
   "pygments_lexer": "ipython3",
   "version": "3.8.10"
  },
  "livereveal": {
   "autolaunch": true
  },
  "toc": {
   "base_numbering": 1,
   "nav_menu": {},
   "number_sections": true,
   "sideBar": true,
   "skip_h1_title": false,
   "title_cell": "Table of Contents",
   "title_sidebar": "Contents",
   "toc_cell": false,
   "toc_position": {},
   "toc_section_display": true,
   "toc_window_display": false
  }
 },
 "nbformat": 4,
 "nbformat_minor": 4
}
