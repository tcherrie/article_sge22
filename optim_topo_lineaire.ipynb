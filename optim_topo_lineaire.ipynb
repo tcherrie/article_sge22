{
 "cells": [
  {
   "cell_type": "markdown",
   "metadata": {},
   "source": [
    "# Optimisation topologique linéaire"
   ]
  },
  {
   "cell_type": "code",
   "execution_count": 1,
   "metadata": {},
   "outputs": [
    {
     "name": "stdout",
     "output_type": "stream",
     "text": [
      "importing NGSolve-6.2.2105-9-g5a835126f\n"
     ]
    }
   ],
   "source": [
    "from ngsolve import *\n",
    "from ngsolve.webgui import Draw\n",
    "from netgen.geom2d import CSG2d, Circle, Rectangle\n",
    "from copy import copy\n",
    "import numpy as np\n",
    "import matplotlib.pyplot as plt"
   ]
  },
  {
   "cell_type": "markdown",
   "metadata": {},
   "source": [
    "## 1) Définition du maillage"
   ]
  },
  {
   "cell_type": "code",
   "execution_count": 2,
   "metadata": {},
   "outputs": [],
   "source": [
    "def generate_fitted_circle_mesh(N):\n",
    "    geo = CSG2d()\n",
    "    R=1\n",
    "    x = R*2*(np.append(np.insert(np.arange(0.5,N+0.5),0,0),N)/N-0.5)\n",
    "    \n",
    "    circle1 = Circle( center=(0,0), radius=R, bc=\"left_up\" ) * Rectangle( pmin=(-R,0), pmax=(0,R))\n",
    "    circle2 = Circle( center=(0,0), radius=R, bc=\"left_bot\" ) * Rectangle( pmin=(-R,-R), pmax=(0,0))\n",
    "    circle3 = Circle( center=(0,0), radius=R, bc=\"right_bot\" ) * Rectangle( pmin=(0,-R), pmax=(R,0))\n",
    "    circle4 = Circle( center=(0,0), radius=R, bc=\"right_up\" ) * Rectangle( pmin=(0,0), pmax=(R,R))\n",
    "    \n",
    "    materials = [\"iron\",\"air\"]\n",
    "    \n",
    "    for i in range(len(x)-1):\n",
    "        geo.Add(Rectangle( pmin=(x[i],-R), pmax=(x[i+1],R), mat = materials[i%2] ) * (circle1 + circle2 + circle3 +circle4))\n",
    "\n",
    "    #m = geo.GenerateMesh(maxh=max([R/N,1/30])) # On doit fixer la taille du maillage sinon le volume change à cause des elts grossiers\n",
    "    m = geo.GenerateMesh(maxh=1/N)\n",
    "    return Mesh(m)\n",
    "\n",
    "#Draw (mesh)"
   ]
  },
  {
   "cell_type": "markdown",
   "metadata": {},
   "source": [
    "## 2) Définition des problèmes éléments finis"
   ]
  },
  {
   "cell_type": "code",
   "execution_count": 3,
   "metadata": {},
   "outputs": [],
   "source": [
    "beta = 1;\n",
    "\n",
    "def solvePb(mu,mesh):\n",
    "    fespace_H1 = H1(mesh, order=1)\n",
    "    fespace_H1.FreeDofs()[0] = False\n",
    "    phi = fespace_H1.TrialFunction()\n",
    "    psi = fespace_H1.TestFunction()\n",
    "    K = BilinearForm(fespace_H1, symmetric=True)\n",
    "    K +=  InnerProduct(grad(psi),mu*grad(phi))*dx\n",
    "\n",
    "    n= specialcf.normal(mesh.dim);\n",
    "    \n",
    "    l1 = LinearForm(fespace_H1)\n",
    "    l1 += -psi* beta * sqrt(1-x*x)* ds(definedon=mesh.Boundaries(\"right_bot|left_bot\"))\n",
    "    l1 += psi*beta* sqrt(1-x*x)*ds(definedon=mesh.Boundaries(\"right_up|left_up\"))\n",
    "\n",
    "    l2 = LinearForm(fespace_H1)\n",
    "    l2 += -psi*beta*sqrt(1-y*y)*ds(definedon=mesh.Boundaries(\"right_bot|right_up\"))\n",
    "    l2 += psi*beta*sqrt(1-y*y)*ds(definedon=mesh.Boundaries(\"left_bot|left_up\"))\n",
    "    \n",
    "    K.Assemble()\n",
    "    l1.Assemble()\n",
    "    l2.Assemble()\n",
    "    \n",
    "    phi1 = GridFunction(fespace_H1)  # solution\n",
    "    phi1.vec.data =     K.mat.Inverse(inverse=\"sparsecholesky\") * l1.vec\n",
    "    phi2 = GridFunction(fespace_H1)  # solution\n",
    "    phi2.vec.data =     K.mat.Inverse(inverse=\"sparsecholesky\") * l2.vec\n",
    "    \n",
    "    return(phi1, phi2)"
   ]
  },
  {
   "cell_type": "markdown",
   "metadata": {},
   "source": [
    "## 3) Optimisation\n",
    "\n",
    "Le problème est auto-adjoint. Ainsi, l'adjoint s'écrit $\\psi = -\\phi$ et l'identification $\\mathcal{L}^2$ du gradient par rapport à $\\mu$ s'écrit:\n",
    "$$\\partial_\\mu \\mathcal{L} = -\\int_\\Omega |\\nabla \\phi|^2 $$"
   ]
  },
  {
   "cell_type": "code",
   "execution_count": 4,
   "metadata": {},
   "outputs": [],
   "source": [
    "def gradient(phi1,phi2):\n",
    "    return(-grad(phi1)*grad(phi1) + grad(phi2)*grad(phi2))\n",
    "\n",
    "def compliance(phi,mu,mesh):\n",
    "    return Integrate(grad(phi)*mu* grad(phi), mesh) /2"
   ]
  },
  {
   "cell_type": "code",
   "execution_count": null,
   "metadata": {
    "scrolled": true
   },
   "outputs": [],
   "source": [
    "#mur = [2,10,100,1000]\n",
    "mur = [10]\n",
    "mu0 = 4e-7*3.14\n",
    "Nmesh = 40;\n",
    "resultMU= []\n",
    "resultJ = []\n",
    "resultJpar = []\n",
    "resultJser = []\n",
    "resultVolFrac = []\n",
    "\n",
    "for j in range(len(mur)):\n",
    "    mesh = generate_fitted_circle_mesh(Nmesh)\n",
    "    fespace_mu = L2(mesh, order=0)    \n",
    "    mu = GridFunction(fespace_mu)\n",
    "    mu.Set(mur[j]/2*mu0)\n",
    "    mu_max = mur[j]*mu0\n",
    "    J=[]\n",
    "    step = (mu_max-mu0)/10\n",
    "    g = GridFunction(fespace_mu)\n",
    "    MU=[]\n",
    "    Jpar = []\n",
    "    Jser = []\n",
    "    volFrac = []\n",
    "    strt = '.'\n",
    "    for i in range(1000):\n",
    "        phi1, phi2 = solvePb(mu,mesh)\n",
    "        g.Set(gradient(phi1,phi2))\n",
    "        g.vec[:]= np.sign(g.vec[:].FV().NumPy())\n",
    "        Jpar.append(compliance(phi1,mu,mesh))\n",
    "        Jser.append(compliance(phi2,mu,mesh))\n",
    "        J.append(compliance(phi1,mu,mesh) - compliance(phi2,mu,mesh))\n",
    "        MU.append(copy(mu))\n",
    "        volFrac.append(Integrate((mu-mu0)*dx,mesh) /(np.pi*(mur[0]*mu0-mu0)))\n",
    "        \n",
    "        if i>0 and J[-1]< J[-2]:\n",
    "            step = min([step*1.2,mu_max-mu0])\n",
    "        elif i>0:\n",
    "            step = step/2\n",
    "        \n",
    "        mu.Set(MU[i] - g*step)\n",
    "        mu.vec[:].FV().NumPy()[mu.vec[:].FV().NumPy()<mu0]=mu0\n",
    "        mu.vec[:].FV().NumPy()[mu.vec[:].FV().NumPy()>mu_max]=mu_max\n",
    "        if np.isnan(np.sum(mu.vec[:].FV().NumPy())):\n",
    "            break\n",
    "        if step/(mu_max-mu0) < 1e-4:\n",
    "            break\n",
    "        print(f'{J[-1]}', end = '\\r')\n",
    "        strt = strt+'.'\n",
    "    print(f'{J[-1]} - mu_r = {mur[j]}')\n",
    "    resultMU.append(copy(MU[-2]))\n",
    "    resultJ.append(copy(J[-2]))\n",
    "    resultJpar.append(copy(Jpar[-2]))\n",
    "    resultJser.append(copy(Jser[-2]))\n",
    "    resultVolFrac.append(copy(volFrac[-2]))"
   ]
  },
  {
   "cell_type": "code",
   "execution_count": null,
   "metadata": {
    "scrolled": true
   },
   "outputs": [],
   "source": [
    "Draw(resultMU[0],mesh)"
   ]
  },
  {
   "cell_type": "code",
   "execution_count": null,
   "metadata": {},
   "outputs": [],
   "source": [
    "print(resultVolFrac)"
   ]
  },
  {
   "cell_type": "code",
   "execution_count": null,
   "metadata": {},
   "outputs": [],
   "source": []
  },
  {
   "cell_type": "code",
   "execution_count": null,
   "metadata": {},
   "outputs": [],
   "source": []
  },
  {
   "cell_type": "code",
   "execution_count": null,
   "metadata": {},
   "outputs": [],
   "source": []
  },
  {
   "cell_type": "code",
   "execution_count": null,
   "metadata": {},
   "outputs": [],
   "source": []
  },
  {
   "cell_type": "code",
   "execution_count": null,
   "metadata": {},
   "outputs": [],
   "source": []
  },
  {
   "cell_type": "code",
   "execution_count": null,
   "metadata": {},
   "outputs": [],
   "source": []
  },
  {
   "cell_type": "code",
   "execution_count": null,
   "metadata": {},
   "outputs": [],
   "source": []
  },
  {
   "cell_type": "code",
   "execution_count": null,
   "metadata": {},
   "outputs": [],
   "source": []
  },
  {
   "cell_type": "code",
   "execution_count": null,
   "metadata": {},
   "outputs": [],
   "source": []
  },
  {
   "cell_type": "code",
   "execution_count": null,
   "metadata": {},
   "outputs": [],
   "source": []
  },
  {
   "cell_type": "code",
   "execution_count": null,
   "metadata": {},
   "outputs": [],
   "source": []
  },
  {
   "cell_type": "code",
   "execution_count": null,
   "metadata": {},
   "outputs": [],
   "source": []
  },
  {
   "cell_type": "code",
   "execution_count": null,
   "metadata": {},
   "outputs": [],
   "source": []
  },
  {
   "cell_type": "code",
   "execution_count": null,
   "metadata": {},
   "outputs": [],
   "source": []
  }
 ],
 "metadata": {
  "kernelspec": {
   "display_name": "Python 3 (ipykernel)",
   "language": "python",
   "name": "python3"
  },
  "language_info": {
   "codemirror_mode": {
    "name": "ipython",
    "version": 3
   },
   "file_extension": ".py",
   "mimetype": "text/x-python",
   "name": "python",
   "nbconvert_exporter": "python",
   "pygments_lexer": "ipython3",
   "version": "3.8.10"
  },
  "livereveal": {
   "autolaunch": true
  },
  "toc": {
   "base_numbering": 1,
   "nav_menu": {},
   "number_sections": true,
   "sideBar": true,
   "skip_h1_title": false,
   "title_cell": "Table of Contents",
   "title_sidebar": "Contents",
   "toc_cell": false,
   "toc_position": {},
   "toc_section_display": true,
   "toc_window_display": false
  }
 },
 "nbformat": 4,
 "nbformat_minor": 4
}
