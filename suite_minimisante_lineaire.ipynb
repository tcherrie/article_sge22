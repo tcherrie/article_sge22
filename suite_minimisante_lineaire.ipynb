{
 "cells": [
  {
   "cell_type": "markdown",
   "metadata": {},
   "source": [
    "# Suite minimisante (linéaire)"
   ]
  },
  {
   "cell_type": "code",
   "execution_count": 1,
   "metadata": {},
   "outputs": [
    {
     "name": "stdout",
     "output_type": "stream",
     "text": [
      "importing NGSolve-6.2.2105-9-g5a835126f\n"
     ]
    }
   ],
   "source": [
    "from ngsolve import *\n",
    "from ngsolve.webgui import Draw\n",
    "from netgen.geom2d import CSG2d, Circle, Rectangle\n",
    "import copy\n",
    "from numpy.random import randint\n",
    "import numpy as np\n",
    "import matplotlib.pyplot as plt"
   ]
  },
  {
   "cell_type": "markdown",
   "metadata": {},
   "source": [
    "## 1) Définition du maillage\n"
   ]
  },
  {
   "cell_type": "code",
   "execution_count": 2,
   "metadata": {},
   "outputs": [],
   "source": [
    "def generate_fitted_circle_mesh(N):\n",
    "    geo = CSG2d()\n",
    "    R=1\n",
    "    x = R*2*(np.append(np.insert(np.arange(0.5,N+0.5),0,0),N)/N-0.5)\n",
    "    \n",
    "    circle1 = Circle( center=(0,0), radius=R, bc=\"left_up\" ) * Rectangle( pmin=(-R,0), pmax=(0,R))\n",
    "    circle2 = Circle( center=(0,0), radius=R, bc=\"left_bot\" ) * Rectangle( pmin=(-R,-R), pmax=(0,0))\n",
    "    circle3 = Circle( center=(0,0), radius=R, bc=\"right_bot\" ) * Rectangle( pmin=(0,-R), pmax=(R,0))\n",
    "    circle4 = Circle( center=(0,0), radius=R, bc=\"right_up\" ) * Rectangle( pmin=(0,0), pmax=(R,R))\n",
    "    \n",
    "    materials = [\"iron\",\"air\"]\n",
    "    \n",
    "    for i in range(len(x)-1):\n",
    "        geo.Add(Rectangle( pmin=(x[i],-R), pmax=(x[i+1],R), mat = materials[i%2] ) * (circle1 + circle2 + circle3 +circle4))\n",
    "\n",
    "    #m = geo.GenerateMesh(maxh=max([R/N,1/30])) # On doit fixer la taille du maillage sinon le volume change à cause des elts grossiers\n",
    "    m = geo.GenerateMesh(maxh=1/100)\n",
    "    return Mesh(m)\n"
   ]
  },
  {
   "cell_type": "markdown",
   "metadata": {},
   "source": [
    "## 2) Définition des problèmes éléments finis"
   ]
  },
  {
   "cell_type": "code",
   "execution_count": 3,
   "metadata": {},
   "outputs": [],
   "source": [
    "PHI=1\n",
    "\n",
    "def solvePb(mu,mesh):\n",
    "    fespace_H1 = H1(mesh, order=1)\n",
    "    fespace_H1.FreeDofs()[0] = False\n",
    "    phi = fespace_H1.TrialFunction()\n",
    "    psi = fespace_H1.TestFunction()\n",
    "    K = BilinearForm(fespace_H1, symmetric=True)\n",
    "    K +=  grad(psi)*mu*grad(phi)*dx\n",
    "    \n",
    "    l1 = LinearForm(fespace_H1)\n",
    "    l1 += -psi*PHI*sqrt(1-x**2)*ds(definedon=mesh.Boundaries(\"left_up|right_up\"))\n",
    "    l1 += psi*PHI*sqrt(1-x**2)*ds(definedon=mesh.Boundaries(\"left_bot|right_bot\"))\n",
    "\n",
    "    l2 = LinearForm(fespace_H1)\n",
    "    l2 += -psi*PHI*sqrt(1-y**2)*ds(definedon=mesh.Boundaries(\"left_up|left_bot\"))\n",
    "    l2 += psi*PHI*sqrt(1-y**2)*ds(definedon=mesh.Boundaries(\"right_up|right_bot\"))\n",
    "    \n",
    "    K.Assemble() ; Kdec = K.mat.Inverse(inverse=\"sparsecholesky\")\n",
    "    l1.Assemble()\n",
    "    l2.Assemble()\n",
    "    \n",
    "    phi1 = GridFunction(fespace_H1)  # solution\n",
    "    phi1.vec.data =     Kdec * l1.vec\n",
    "    phi2 = GridFunction(fespace_H1)  # solution\n",
    "    phi2.vec.data =     Kdec * l2.vec\n",
    "    \n",
    "    return(phi1, phi2)\n",
    "\n",
    "\n",
    "def compliance(phi,mu,mesh):\n",
    "    return Integrate(grad(phi)*mu* grad(phi)* dx,mesh) /2"
   ]
  },
  {
   "cell_type": "markdown",
   "metadata": {},
   "source": [
    "## 3) Calculs"
   ]
  },
  {
   "cell_type": "code",
   "execution_count": 4,
   "metadata": {},
   "outputs": [
    {
     "name": "stdout",
     "output_type": "stream",
     "text": [
      "[146463.14317402747, 631575.4148888835]\n",
      "[77072.36040226641, 631575.3285118599]\n",
      "[57717.23863158679, 631575.6211367974]\n",
      "[48688.148475458984, 631575.550379398]\n",
      "[43456.03378774365, 631575.2592917483]\n",
      "[40037.32663839627, 631575.4477389146]\n",
      "[37619.3619951107, 631575.4116064814]\n",
      "[35827.075448871845, 631575.3556239435]\n",
      "[34445.8848512326, 631575.0360171687]\n",
      "[33313.367310140624, 631576.0562793757]\n",
      "[32431.96995928962, 631574.884059616]\n",
      "[31625.376886821654, 631576.480937992]\n",
      "[31009.165332867666, 631575.7851078549]\n",
      "[30481.225677040573, 631574.5735254901]\n",
      "[29947.616491196353, 631576.0703590009]\n",
      "[29506.81055738702, 631576.4544267311]\n",
      "[29148.30069083019, 631575.8634720842]\n",
      "[28839.03182264482, 631575.251611995]\n",
      "[28584.545909018114, 631574.166274416]\n",
      "[28331.063661643773, 631573.5980886425]\n",
      "[27952.57908313321, 631576.9594499893]\n",
      "[27672.304760781222, 631577.5381741171]\n",
      "[27473.033667731965, 631577.7296528349]\n",
      "[27297.842927064114, 631577.3777345399]\n",
      "[27153.68869524016, 631576.4393817513]\n"
     ]
    }
   ],
   "source": [
    "J1=[]\n",
    "J2=[]\n",
    "Jdiff = []\n",
    "temoin = []\n",
    "mu0 = 4e-7*3.14\n",
    "mur_fer = 100\n",
    "maxN = 100\n",
    "for i in range(3,maxN,4):\n",
    "    mesh = generate_fitted_circle_mesh(i)\n",
    "    mur = mesh.MaterialCF({ \"iron\" : mur_fer }, default=1)\n",
    "    mu = mu0*mur\n",
    "    phi1, phi2 = solvePb(mu,mesh)\n",
    "    \n",
    "    j1 = compliance(phi1,mu,mesh);\n",
    "    j2 = compliance(phi2,mu,mesh);\n",
    "    print([j1,j2])\n",
    "    J1.append(copy.copy(j1))\n",
    "    J2.append(copy.copy(j2))\n",
    "    Jdiff.append(copy.copy(j1-j2))\n",
    "    t =  GridFunction(L2(mesh))\n",
    "    t.Set(1)\n",
    "    temoin.append(Integrate(1,mesh))"
   ]
  },
  {
   "cell_type": "code",
   "execution_count": 11,
   "metadata": {},
   "outputs": [
    {
     "data": {
      "image/png": "[encoded data removed]",
      "text/plain": [
       "<Figure size 432x288 with 1 Axes>"
      ]
     },
     "metadata": {
      "needs_background": "light"
     },
     "output_type": "display_data"
    }
   ],
   "source": [
    "Jpar_theorique = np.pi/2 / (0.5*mu0*mur_fer + 0.5*mu0)\n",
    "Jperp_theorique = np.pi/2 * (0.5/(mu0*mur_fer) + 0.5/mu0)\n",
    "\n",
    "plt.semilogy(list(range(3,maxN,4)),J1,'-o')\n",
    "plt.semilogy(list(range(3,maxN,4)),J2,'-o')\n",
    "plt.semilogy([1,maxN],[Jpar_theorique,Jpar_theorique],'--')\n",
    "plt.semilogy([1,maxN],[Jperp_theorique,Jperp_theorique],'--')\n",
    "plt.legend([\"$J_{\\parallel}$\",\"$J_{\\perp}$\",\"$J_{\\parallel}$ asymptotique\",\"$J_{\\perp}$ théorique\"], fontsize=13)\n",
    "plt.xlabel(\"Nombre de barres\", fontsize=13)\n",
    "plt.ylabel(\"Compliance magnétique (J/m)\", fontsize=13)\n",
    "plt.yticks([1e5,1e6])\n",
    "plt.grid()\n",
    "plt.savefig(\"suite_minimisante_lineaire.pdf\",format = 'pdf')"
   ]
  }
 ],
 "metadata": {
  "kernelspec": {
   "display_name": "Python 3 (ipykernel)",
   "language": "python",
   "name": "python3"
  },
  "language_info": {
   "codemirror_mode": {
    "name": "ipython",
    "version": 3
   },
   "file_extension": ".py",
   "mimetype": "text/x-python",
   "name": "python",
   "nbconvert_exporter": "python",
   "pygments_lexer": "ipython3",
   "version": "3.8.10"
  },
  "livereveal": {
   "autolaunch": true
  },
  "toc": {
   "base_numbering": 1,
   "nav_menu": {},
   "number_sections": true,
   "sideBar": true,
   "skip_h1_title": false,
   "title_cell": "Table of Contents",
   "title_sidebar": "Contents",
   "toc_cell": false,
   "toc_position": {},
   "toc_section_display": true,
   "toc_window_display": false
  }
 },
 "nbformat": 4,
 "nbformat_minor": 4
}
