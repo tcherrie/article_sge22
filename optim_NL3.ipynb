{
 "cells": [
  {
   "cell_type": "markdown",
   "metadata": {},
   "source": [
    "# Maximisation couple moyen (non-linéaire)"
   ]
  },
  {
   "cell_type": "code",
   "execution_count": 1,
   "metadata": {},
   "outputs": [
    {
     "name": "stdout",
     "output_type": "stream",
     "text": [
      "importing NGSolve-6.2.2105-9-g5a835126f\n"
     ]
    }
   ],
   "source": [
    "from ngsolve import *\n",
    "from ngsolve.webgui import Draw\n",
    "from netgen.geom2d import CSG2d, Circle, Rectangle\n",
    "from copy import copy\n",
    "import numpy as np\n",
    "import matplotlib.pyplot as plt\n",
    "from ngsolve.solvers import Newton"
   ]
  },
  {
   "cell_type": "markdown",
   "metadata": {},
   "source": [
    "## 1) Définition du maillage\n",
    "\n",
    "La première étape consiste à définir une géométrie (disque), ainsi que la finesse de maillage associée."
   ]
  },
  {
   "cell_type": "code",
   "execution_count": 2,
   "metadata": {},
   "outputs": [],
   "source": [
    "def generate_fitted_circle_mesh(N):\n",
    "    geo = CSG2d()\n",
    "    R=1\n",
    "    x = R*2*(np.append(np.insert(np.arange(0.5,N+0.5),0,0),N)/N-0.5)\n",
    "    \n",
    "    circle1 = Circle( center=(0,0), radius=R, bc=\"left_up\" ) * Rectangle( pmin=(-R,0), pmax=(0,R))\n",
    "    circle2 = Circle( center=(0,0), radius=R, bc=\"left_bot\" ) * Rectangle( pmin=(-R,-R), pmax=(0,0))\n",
    "    circle3 = Circle( center=(0,0), radius=R, bc=\"right_bot\" ) * Rectangle( pmin=(0,-R), pmax=(R,0))\n",
    "    circle4 = Circle( center=(0,0), radius=R, bc=\"right_up\" ) * Rectangle( pmin=(0,0), pmax=(R,R))\n",
    "    \n",
    "    materials = [\"iron\",\"air\"]\n",
    "    \n",
    "    for i in range(len(x)-1):\n",
    "        geo.Add(Rectangle( pmin=(x[i],-R), pmax=(x[i+1],R), mat = materials[i%2] ) * (circle1 + circle2 + circle3 +circle4))\n",
    "\n",
    "    #m = geo.GenerateMesh(maxh=max([R/N,1/30])) # On doit fixer la taille du maillage sinon le volume change à cause des elts grossiers\n",
    "    m = geo.GenerateMesh(maxh=1/N)\n",
    "    return Mesh(m)\n"
   ]
  },
  {
   "cell_type": "markdown",
   "metadata": {},
   "source": [
    "## 2) Définition des problèmes éléments finis"
   ]
  },
  {
   "cell_type": "code",
   "execution_count": 3,
   "metadata": {},
   "outputs": [
    {
     "data": {
      "image/png": "[encoded data removed]",
      "text/plain": [
       "<Figure size 432x288 with 1 Axes>"
      ]
     },
     "metadata": {
      "needs_background": "light"
     },
     "output_type": "display_data"
    },
    {
     "data": {
      "image/png": "[encoded data removed]",
      "text/plain": [
       "<Figure size 432x288 with 2 Axes>"
      ]
     },
     "metadata": {
      "needs_background": "light"
     },
     "output_type": "display_data"
    }
   ],
   "source": [
    "mu_r0 = 1000\n",
    "hsat = 3e6/mu_r0\n",
    "mu0 = 4e-7*np.pi\n",
    "\n",
    "def b(h):\n",
    "    if str(type(h)) == \"<class 'numpy.ndarray'>\":\n",
    "        return mu0*(2*mu_r0*h-(np.arctan(h/hsat)/np.pi+0.5)*(2*mu_r0-1)*h )\n",
    "    return mu0*(2*mu_r0*h-(atan(h/hsat)/np.pi+0.5)*(2*mu_r0-1)*h )\n",
    "\n",
    "def dbdh(h):\n",
    "    if str(type(h)) == \"<class 'numpy.ndarray'>\":\n",
    "        return -mu0*(((2*mu_r0 - 1)*(pi + 2*np.arctan(h/hsat)))/(2*np.pi) - 2*mu_r0 + (h*hsat*(mu_r0 - 1))/(np.pi*(h**2 + hsat**2)))\n",
    "    return -mu0*(((2*mu_r0 - 1)*(pi + 2*atan(h/hsat)))/(2*np.pi) - 2*mu_r0 + (h*hsat*(mu_r0 - 1))/(np.pi*(h**2 + hsat**2)))\n",
    "\n",
    "def mu(phi,rho):\n",
    "    h = sqrt(grad(phi)*grad(phi)+1e-20)\n",
    "    return mu0 + (b(h)/h-mu0)*rho\n",
    "\n",
    "def dmudh(phi,rho):\n",
    "    h = sqrt(grad(phi)*grad(phi)+1e-20)\n",
    "    return rho*(dbdh(h)/h - b(h)/(h**2))\n",
    "\n",
    "H = np.linspace(1e-6,1e5,1000)\n",
    "mu_r = b(H)/(H*mu0)\n",
    "dmu_rdh =  (dbdh(H)/H - b(H)/(H**2))/mu0\n",
    "\n",
    "plt.plot(H,b(H), 'b-') ; plt.xlabel('H (A/m)') ; plt.ylabel('B (T)') ; plt.grid()\n",
    "plt.show()\n",
    "\n",
    "fig, ax1 = plt.subplots()\n",
    "ax2 = ax1.twinx()\n",
    "ax1.plot(H,mu_r, 'b-') ; ax2.plot(H,dmu_rdh, 'g-')\n",
    "\n",
    "ax1.set_xlabel('H (A/m)')\n",
    "ax1.set_ylabel('mu_r', color='b')\n",
    "ax2.set_ylabel('dh_mur (m/A)', color='g')\n",
    "\n",
    "plt.show()"
   ]
  },
  {
   "cell_type": "code",
   "execution_count": 4,
   "metadata": {},
   "outputs": [],
   "source": [
    "beta = 1;\n",
    "\n",
    "def solvePb(rho):\n",
    "    fespace_H1 = H1(mesh, order=1)\n",
    "    fespace_H1.FreeDofs()[0] = False\n",
    "    phi = fespace_H1.TrialFunction()\n",
    "    psi = fespace_H1.TestFunction()\n",
    "    \n",
    "    K1 = BilinearForm(fespace_H1, symmetric=True)\n",
    "    K1 +=  grad(psi)*mu(phi,rho)*grad(phi)*dx\n",
    "    K2 = BilinearForm(fespace_H1, symmetric=True)\n",
    "    K2 +=  grad(psi)*mu(phi,rho)*grad(phi)*dx\n",
    "\n",
    "    K1 += psi*beta*sqrt(1-x**2)*ds(definedon=mesh.Boundaries(\"right_bot|left_bot\"))\n",
    "    K1 += -psi*beta*sqrt(1-x**2)*ds(definedon=mesh.Boundaries(\"left_up|right_up\"))\n",
    "\n",
    "    K2 += psi*beta*sqrt(1-y**2)*ds(definedon=mesh.Boundaries(\"right_up|right_bot\"))\n",
    "    K2 += - psi*beta*sqrt(1-y**2)*ds(definedon=mesh.Boundaries(\"left_up|left_bot\"))\n",
    "    \n",
    "    phi1 = GridFunction(fespace_H1)\n",
    "    phi2 = GridFunction(fespace_H1)\n",
    "    Newton(K1,phi1, freedofs = fespace_H1.FreeDofs() ,printing=False, maxit=100, maxerr=2e-10,dampfactor = 0.1)\n",
    "    Newton(K2,phi2, freedofs = fespace_H1.FreeDofs() ,printing=False, maxit=100, maxerr=2e-10,dampfactor = 0.1)\n",
    "    \n",
    "    return(phi1, phi2)"
   ]
  },
  {
   "cell_type": "markdown",
   "metadata": {},
   "source": [
    "On définit ensuite les densités"
   ]
  },
  {
   "cell_type": "code",
   "execution_count": 5,
   "metadata": {},
   "outputs": [],
   "source": [
    "def compliance(rho, phi):\n",
    "    return Integrate(grad(phi)*mu(phi,rho)* grad(phi),mesh)/2\n",
    "\n",
    "def objective(phi1,phi2,rho):\n",
    "    return compliance(rho, phi1) - compliance(rho, phi2)\n",
    "\n",
    "\n",
    "def solveAdjoint(rho,phi1,phi2):\n",
    "    fespace_H1 = H1(mesh, order=1)\n",
    "    fespace_H1.FreeDofs()[0] = False\n",
    "    \n",
    "    phi = fespace_H1.TrialFunction()\n",
    "    psi = fespace_H1.TestFunction()\n",
    "    \n",
    "    dK1 = BilinearForm(fespace_H1, symmetric=True)\n",
    "    dK1 +=  grad(psi)*mu(phi,rho)*grad(phi)*dx\n",
    "    dK2 = BilinearForm(fespace_H1, symmetric=True)\n",
    "    dK2 +=  grad(psi)*mu(phi,rho)*grad(phi)*dx\n",
    "    \n",
    "    dK1.AssembleLinearization(phi1.vec)\n",
    "    dK2.AssembleLinearization(phi2.vec)\n",
    "    \n",
    "    dJ1 = LinearForm(fespace_H1)\n",
    "    #dJ1 +=  - dmu1*InnerProduct(grad(phi1),OuterProduct(grad(phi1),grad(phi1))*grad(psi))/sqrt(1e-12+grad(phi1)*grad(phi1))*dx\n",
    "    # on peut faire plus court (équivalent) : \n",
    "    \n",
    "    norm_h1 = sqrt(1e-12+grad(phi1)*grad(phi1))\n",
    "    dJ1 += (dmudh(phi1,rho)*norm_h1*grad(phi1)*grad(psi)/2 + mu(phi1,rho)*grad(phi1)*grad(psi))*dx \n",
    "    \n",
    "    norm_h2 = sqrt(1e-12+grad(phi2)*grad(phi2))\n",
    "    dJ2 = LinearForm(fespace_H1)\n",
    "    dJ2 += - (dmudh(phi2,rho)*norm_h2*grad(phi2)*grad(psi)/2 + mu(phi2,rho)*grad(psi)*grad(phi2))*dx \n",
    "\n",
    "    dJ1.Assemble()\n",
    "    dJ2.Assemble()\n",
    "    \n",
    "    lb1 = GridFunction(fespace_H1)\n",
    "    lb2 = GridFunction(fespace_H1)\n",
    "    \n",
    "    lb1.vec.data = (dK1.mat.Inverse(fespace_H1.FreeDofs(), inverse=\"sparsecholesky\").T * dJ1.vec)\n",
    "    lb2.vec.data = (dK2.mat.Inverse(fespace_H1.FreeDofs(), inverse=\"sparsecholesky\").T * dJ2.vec)\n",
    "    \n",
    "    \n",
    "    return lb1,lb2"
   ]
  },
  {
   "cell_type": "code",
   "execution_count": 6,
   "metadata": {},
   "outputs": [],
   "source": [
    "def gradient(rho,phi1,phi2,lb1,lb2):\n",
    "    mu1 = mu(phi1,rho)\n",
    "    mu2 = mu(phi2,rho)\n",
    "    Lag = (grad(lb1)*mu1*grad(phi1) + grad(lb2)*mu2*grad(phi2))*dx # FV\n",
    "    Lag += (grad(phi1)*mu1* grad(phi1) -  grad(phi2)*mu2* grad(phi2))/2*dx # fonction objectif\n",
    "    rho_test = rho.space.TestFunction()\n",
    "    temp = LinearForm(rho.space)\n",
    "    temp += Lag.Diff(rho,rho_test)\n",
    "    temp.Assemble()\n",
    "    r_temp = GridFunction(rho.space)\n",
    "    r_temp.vec.data = temp.vec\n",
    "    return r_temp"
   ]
  },
  {
   "cell_type": "markdown",
   "metadata": {},
   "source": [
    "## Optimisation"
   ]
  },
  {
   "cell_type": "code",
   "execution_count": 7,
   "metadata": {},
   "outputs": [
    {
     "name": "stdout",
     "output_type": "stream",
     "text": [
      "-0.2738215926765406 - step : 0.1\n",
      "-8499.296194528706 - step : 0.1\n",
      "-111049.12151121808 - step : 0.12\n",
      "-260960.98443404204 - step : 0.144\n",
      "-409760.44349191803 - step : 0.17279999999999998\n",
      "-457572.09947537875 - step : 0.20735999999999996\n",
      "-468574.5014296991 - step : 0.24883199999999994\n",
      "Warning: Newton might not converge! Error =  454.3442286922095\n",
      "-528334.8781445208 - step : 0.29859839999999993\n",
      "-474411.49787122203 - step : 0.3583180799999999\n",
      "-479060.2245387725 - step : 0.17915903999999996\n",
      "-483696.6753021128 - step : 0.21499084799999996\n",
      "-485173.0737310221 - step : 0.2579890175999999\n",
      "-487282.44689182297 - step : 0.3095868211199999\n",
      "Warning: Newton might not converge! Error =  531.4828431641466\n",
      "-562317.7897186673 - step : 0.37150418534399987\n",
      "-484020.8354825924 - step : 0.44580502241279985\n",
      "-488886.4482297644 - step : 0.22290251120639992\n",
      "Warning: Newton might not converge! Error =  191.8466053345224\n",
      "-503171.66412990703 - step : 0.2674830134476799\n",
      "-494024.7126630734 - step : 0.3209796161372159\n",
      "-495418.38372402696 - step : 0.16048980806860794\n",
      "-496207.9908900182 - step : 0.19258776968232952\n",
      "-497844.3388649486 - step : 0.2311053236187954\n",
      "-498832.2940016737 - step : 0.27732638834255446\n",
      "-500171.43883758585 - step : 0.33279166601106536\n",
      "-500182.03326001734 - step : 0.3993499992132784\n",
      "-501894.3411273703 - step : 0.47921999905593404\n",
      "-501842.13937627303 - step : 0.5750639988671208\n",
      "-503666.8994978318 - step : 0.2875319994335604\n",
      "-504396.26533658936 - step : 0.34503839932027247\n",
      "-504913.6795189746 - step : 0.41404607918432695\n",
      "-505698.48454470374 - step : 0.4968552950211923\n",
      "-505571.5305711683 - step : 0.5962263540254308\n",
      "-507618.32431762526 - step : 0.2981131770127154\n",
      "-507924.1687045606 - step : 0.3577358124152585\n",
      "-508683.2814348839 - step : 0.4292829748983102\n",
      "-508566.2460184335 - step : 0.5151395698779722\n",
      "-510196.48410497035 - step : 0.2575697849389861\n",
      "-510347.9266012882 - step : 0.3090837419267833\n",
      "-510898.01455100183 - step : 0.37090049031213995\n",
      "-510715.9742530915 - step : 0.44508058837456793\n",
      "-511758.0588764949 - step : 0.22254029418728397\n",
      "-511952.84353776876 - step : 0.2670483530247407\n",
      "-512344.45627078036 - step : 0.32045802362968884\n",
      "-511753.38819741574 - step : 0.3845496283556266\n",
      "-512902.26113502565 - step : 0.1922748141778133\n",
      "-513330.1218604498 - step : 0.23072977701337596\n",
      "-513488.6347122107 - step : 0.2768757324160511\n",
      "-513552.3782179335 - step : 0.33225087889926136\n",
      "-513007.17868869245 - step : 0.3987010546791136\n",
      "-513907.083932493 - step : 0.1993505273395568\n",
      "-514307.09984831774 - step : 0.23922063280746814\n",
      "-514641.22929286514 - step : 0.28706475936896175\n",
      "-514860.8718087294 - step : 0.3444777112427541\n",
      "-514752.85668043053 - step : 0.41337325349130494\n",
      "-515234.453114918 - step : 0.20668662674565247\n",
      "-515372.650397298 - step : 0.24802395209478295\n",
      "-515061.8094300441 - step : 0.29762874251373955\n",
      "-515337.40327150124 - step : 0.14881437125686978\n",
      "-515466.3620765973 - step : 0.17857724550824372\n",
      "-515510.1712035085 - step : 0.21429269460989245\n",
      "-515428.4152244841 - step : 0.2571512335318709\n"
     ]
    },
    {
     "ename": "KeyboardInterrupt",
     "evalue": "",
     "output_type": "error",
     "traceback": [
      "\u001b[0;31m---------------------------------------------------------------------------\u001b[0m",
      "\u001b[0;31mKeyboardInterrupt\u001b[0m                         Traceback (most recent call last)",
      "\u001b[0;32m/tmp/ipykernel_74/3181531985.py\u001b[0m in \u001b[0;36m<module>\u001b[0;34m\u001b[0m\n\u001b[1;32m     16\u001b[0m \u001b[0;34m\u001b[0m\u001b[0m\n\u001b[1;32m     17\u001b[0m     \u001b[0;31m# Calculs état direct, adjoint et direction de descente\u001b[0m\u001b[0;34m\u001b[0m\u001b[0;34m\u001b[0m\u001b[0;34m\u001b[0m\u001b[0m\n\u001b[0;32m---> 18\u001b[0;31m     \u001b[0mphi1\u001b[0m\u001b[0;34m,\u001b[0m\u001b[0mphi2\u001b[0m \u001b[0;34m=\u001b[0m \u001b[0msolvePb\u001b[0m\u001b[0;34m(\u001b[0m\u001b[0mrho\u001b[0m\u001b[0;34m)\u001b[0m\u001b[0;34m\u001b[0m\u001b[0;34m\u001b[0m\u001b[0m\n\u001b[0m\u001b[1;32m     19\u001b[0m     \u001b[0mlb1\u001b[0m\u001b[0;34m,\u001b[0m\u001b[0mlb2\u001b[0m \u001b[0;34m=\u001b[0m \u001b[0msolveAdjoint\u001b[0m\u001b[0;34m(\u001b[0m\u001b[0mrho\u001b[0m\u001b[0;34m,\u001b[0m\u001b[0mphi1\u001b[0m\u001b[0;34m,\u001b[0m\u001b[0mphi2\u001b[0m\u001b[0;34m)\u001b[0m\u001b[0;34m\u001b[0m\u001b[0;34m\u001b[0m\u001b[0m\n\u001b[1;32m     20\u001b[0m     \u001b[0mdescent\u001b[0m\u001b[0;34m.\u001b[0m\u001b[0mSet\u001b[0m\u001b[0;34m(\u001b[0m\u001b[0mgradient\u001b[0m\u001b[0;34m(\u001b[0m\u001b[0mrho\u001b[0m\u001b[0;34m,\u001b[0m\u001b[0mphi1\u001b[0m\u001b[0;34m,\u001b[0m\u001b[0mphi2\u001b[0m\u001b[0;34m,\u001b[0m\u001b[0mlb1\u001b[0m\u001b[0;34m,\u001b[0m\u001b[0mlb2\u001b[0m\u001b[0;34m)\u001b[0m\u001b[0;34m)\u001b[0m\u001b[0;34m\u001b[0m\u001b[0;34m\u001b[0m\u001b[0m\n",
      "\u001b[0;32m/tmp/ipykernel_74/3347665606.py\u001b[0m in \u001b[0;36msolvePb\u001b[0;34m(rho)\u001b[0m\n\u001b[1;32m     20\u001b[0m     \u001b[0mphi1\u001b[0m \u001b[0;34m=\u001b[0m \u001b[0mGridFunction\u001b[0m\u001b[0;34m(\u001b[0m\u001b[0mfespace_H1\u001b[0m\u001b[0;34m)\u001b[0m\u001b[0;34m\u001b[0m\u001b[0;34m\u001b[0m\u001b[0m\n\u001b[1;32m     21\u001b[0m     \u001b[0mphi2\u001b[0m \u001b[0;34m=\u001b[0m \u001b[0mGridFunction\u001b[0m\u001b[0;34m(\u001b[0m\u001b[0mfespace_H1\u001b[0m\u001b[0;34m)\u001b[0m\u001b[0;34m\u001b[0m\u001b[0;34m\u001b[0m\u001b[0m\n\u001b[0;32m---> 22\u001b[0;31m     \u001b[0mNewton\u001b[0m\u001b[0;34m(\u001b[0m\u001b[0mK1\u001b[0m\u001b[0;34m,\u001b[0m\u001b[0mphi1\u001b[0m\u001b[0;34m,\u001b[0m \u001b[0mfreedofs\u001b[0m \u001b[0;34m=\u001b[0m \u001b[0mfespace_H1\u001b[0m\u001b[0;34m.\u001b[0m\u001b[0mFreeDofs\u001b[0m\u001b[0;34m(\u001b[0m\u001b[0;34m)\u001b[0m \u001b[0;34m,\u001b[0m\u001b[0mprinting\u001b[0m\u001b[0;34m=\u001b[0m\u001b[0;32mFalse\u001b[0m\u001b[0;34m,\u001b[0m \u001b[0mmaxit\u001b[0m\u001b[0;34m=\u001b[0m\u001b[0;36m100\u001b[0m\u001b[0;34m,\u001b[0m \u001b[0mmaxerr\u001b[0m\u001b[0;34m=\u001b[0m\u001b[0;36m2e-10\u001b[0m\u001b[0;34m,\u001b[0m\u001b[0mdampfactor\u001b[0m \u001b[0;34m=\u001b[0m \u001b[0;36m0.1\u001b[0m\u001b[0;34m)\u001b[0m\u001b[0;34m\u001b[0m\u001b[0;34m\u001b[0m\u001b[0m\n\u001b[0m\u001b[1;32m     23\u001b[0m     \u001b[0mNewton\u001b[0m\u001b[0;34m(\u001b[0m\u001b[0mK2\u001b[0m\u001b[0;34m,\u001b[0m\u001b[0mphi2\u001b[0m\u001b[0;34m,\u001b[0m \u001b[0mfreedofs\u001b[0m \u001b[0;34m=\u001b[0m \u001b[0mfespace_H1\u001b[0m\u001b[0;34m.\u001b[0m\u001b[0mFreeDofs\u001b[0m\u001b[0;34m(\u001b[0m\u001b[0;34m)\u001b[0m \u001b[0;34m,\u001b[0m\u001b[0mprinting\u001b[0m\u001b[0;34m=\u001b[0m\u001b[0;32mFalse\u001b[0m\u001b[0;34m,\u001b[0m \u001b[0mmaxit\u001b[0m\u001b[0;34m=\u001b[0m\u001b[0;36m100\u001b[0m\u001b[0;34m,\u001b[0m \u001b[0mmaxerr\u001b[0m\u001b[0;34m=\u001b[0m\u001b[0;36m2e-10\u001b[0m\u001b[0;34m,\u001b[0m\u001b[0mdampfactor\u001b[0m \u001b[0;34m=\u001b[0m \u001b[0;36m0.1\u001b[0m\u001b[0;34m)\u001b[0m\u001b[0;34m\u001b[0m\u001b[0;34m\u001b[0m\u001b[0m\n\u001b[1;32m     24\u001b[0m \u001b[0;34m\u001b[0m\u001b[0m\n",
      "\u001b[0;32m/usr/lib/python3/dist-packages/ngsolve/nonlinearsolvers.py\u001b[0m in \u001b[0;36mNewton\u001b[0;34m(a, u, freedofs, maxit, maxerr, inverse, dirichletvalues, dampfactor, printing, callback)\u001b[0m\n\u001b[1;32m    134\u001b[0m     \u001b[0;32mif\u001b[0m \u001b[0mdirichletvalues\u001b[0m \u001b[0;32mis\u001b[0m \u001b[0;32mnot\u001b[0m \u001b[0;32mNone\u001b[0m\u001b[0;34m:\u001b[0m\u001b[0;34m\u001b[0m\u001b[0;34m\u001b[0m\u001b[0m\n\u001b[1;32m    135\u001b[0m         \u001b[0msolver\u001b[0m\u001b[0;34m.\u001b[0m\u001b[0mSetDirichlet\u001b[0m\u001b[0;34m(\u001b[0m\u001b[0mdirichletvalues\u001b[0m\u001b[0;34m)\u001b[0m\u001b[0;34m\u001b[0m\u001b[0;34m\u001b[0m\u001b[0m\n\u001b[0;32m--> 136\u001b[0;31m     return solver.Solve(maxit=maxit, maxerr=maxerr,\n\u001b[0m\u001b[1;32m    137\u001b[0m                         \u001b[0mdampfactor\u001b[0m\u001b[0;34m=\u001b[0m\u001b[0mdampfactor\u001b[0m\u001b[0;34m,\u001b[0m\u001b[0;34m\u001b[0m\u001b[0;34m\u001b[0m\u001b[0m\n\u001b[1;32m    138\u001b[0m                         \u001b[0mprinting\u001b[0m\u001b[0;34m=\u001b[0m\u001b[0mprinting\u001b[0m\u001b[0;34m,\u001b[0m\u001b[0;34m\u001b[0m\u001b[0;34m\u001b[0m\u001b[0m\n",
      "\u001b[0;32m/usr/lib/python3/dist-packages/ngsolve/utils.py\u001b[0m in \u001b[0;36mretfunc\u001b[0;34m(*args, **kwargs)\u001b[0m\n\u001b[1;32m    150\u001b[0m     \u001b[0;32mdef\u001b[0m \u001b[0mretfunc\u001b[0m\u001b[0;34m(\u001b[0m\u001b[0;34m*\u001b[0m\u001b[0margs\u001b[0m\u001b[0;34m,\u001b[0m\u001b[0;34m**\u001b[0m\u001b[0mkwargs\u001b[0m\u001b[0;34m)\u001b[0m\u001b[0;34m:\u001b[0m\u001b[0;34m\u001b[0m\u001b[0;34m\u001b[0m\u001b[0m\n\u001b[1;32m    151\u001b[0m         \u001b[0;32mwith\u001b[0m \u001b[0mtimer\u001b[0m\u001b[0;34m:\u001b[0m\u001b[0;34m\u001b[0m\u001b[0;34m\u001b[0m\u001b[0m\n\u001b[0;32m--> 152\u001b[0;31m             \u001b[0mret\u001b[0m \u001b[0;34m=\u001b[0m \u001b[0mfunc\u001b[0m\u001b[0;34m(\u001b[0m\u001b[0;34m*\u001b[0m\u001b[0margs\u001b[0m\u001b[0;34m,\u001b[0m \u001b[0;34m**\u001b[0m\u001b[0mkwargs\u001b[0m\u001b[0;34m)\u001b[0m\u001b[0;34m\u001b[0m\u001b[0;34m\u001b[0m\u001b[0m\n\u001b[0m\u001b[1;32m    153\u001b[0m         \u001b[0;32mreturn\u001b[0m \u001b[0mret\u001b[0m\u001b[0;34m\u001b[0m\u001b[0;34m\u001b[0m\u001b[0m\n\u001b[1;32m    154\u001b[0m     \u001b[0;32mreturn\u001b[0m \u001b[0mretfunc\u001b[0m\u001b[0;34m\u001b[0m\u001b[0;34m\u001b[0m\u001b[0m\n",
      "\u001b[0;32m/usr/lib/python3/dist-packages/ngsolve/nonlinearsolvers.py\u001b[0m in \u001b[0;36mSolve\u001b[0;34m(self, maxit, maxerr, dampfactor, printing, callback, linesearch, printenergy, print_wrong_direction)\u001b[0m\n\u001b[1;32m     32\u001b[0m                     \u001b[0mprint\u001b[0m\u001b[0;34m(\u001b[0m\u001b[0;34m\"Energy: \"\u001b[0m\u001b[0;34m,\u001b[0m \u001b[0ma\u001b[0m\u001b[0;34m.\u001b[0m\u001b[0mEnergy\u001b[0m\u001b[0;34m(\u001b[0m\u001b[0mu\u001b[0m\u001b[0;34m.\u001b[0m\u001b[0mvec\u001b[0m\u001b[0;34m)\u001b[0m\u001b[0;34m)\u001b[0m\u001b[0;34m\u001b[0m\u001b[0;34m\u001b[0m\u001b[0m\n\u001b[1;32m     33\u001b[0m \u001b[0;34m\u001b[0m\u001b[0m\n\u001b[0;32m---> 34\u001b[0;31m             \u001b[0ma\u001b[0m\u001b[0;34m.\u001b[0m\u001b[0mAssembleLinearization\u001b[0m\u001b[0;34m(\u001b[0m\u001b[0mu\u001b[0m\u001b[0;34m.\u001b[0m\u001b[0mvec\u001b[0m\u001b[0;34m)\u001b[0m\u001b[0;34m\u001b[0m\u001b[0;34m\u001b[0m\u001b[0m\n\u001b[0m\u001b[1;32m     35\u001b[0m             \u001b[0ma\u001b[0m\u001b[0;34m.\u001b[0m\u001b[0mApply\u001b[0m\u001b[0;34m(\u001b[0m\u001b[0mu\u001b[0m\u001b[0;34m.\u001b[0m\u001b[0mvec\u001b[0m\u001b[0;34m,\u001b[0m \u001b[0mr\u001b[0m\u001b[0;34m)\u001b[0m\u001b[0;34m\u001b[0m\u001b[0;34m\u001b[0m\u001b[0m\n\u001b[1;32m     36\u001b[0m \u001b[0;34m\u001b[0m\u001b[0m\n",
      "\u001b[0;31mKeyboardInterrupt\u001b[0m: "
     ]
    }
   ],
   "source": [
    "mesh = generate_fitted_circle_mesh(40)\n",
    "fespace_rho = L2(mesh, order=0)\n",
    "rho = GridFunction(fespace_rho)\n",
    "rho.Set(0.5)\n",
    "\n",
    "objFuncList = []\n",
    "JparList = []\n",
    "JserList = []\n",
    "rhoList = []\n",
    "volFracList = []\n",
    "descentList = []\n",
    "step = 0.1\n",
    "descent = GridFunction(fespace_rho)\n",
    "\n",
    "for i in range(200):\n",
    "    \n",
    "    # Calculs état direct, adjoint et direction de descente\n",
    "    phi1,phi2 = solvePb(rho)\n",
    "    lb1,lb2 = solveAdjoint(rho,phi1,phi2)\n",
    "    descent.Set(gradient(rho,phi1,phi2,lb1,lb2))\n",
    "    descent.vec[:] = np.sign(descent.vec[:].FV().NumPy())\n",
    "    \n",
    "    rhoList.append(copy(rho))\n",
    "    objFuncList.append(objective(phi1,phi2,rho))\n",
    "    JparList.append(compliance(rho, phi1))\n",
    "    JserList.append(compliance(rho, phi2))\n",
    "    descentList.append(copy(descent))\n",
    "    volFracList.append(Integrate(rho,mesh)/np.pi)\n",
    "    \n",
    "    print(f'{objFuncList[-1]} - step : {step}')\n",
    "    \n",
    "    if i>0 and objFuncList[-1]< objFuncList[-2]:\n",
    "        step = step*1.2\n",
    "    elif i>0:\n",
    "        step = step/2\n",
    "      \n",
    "    rho.Set(rhoList[i] + descentList[i]*step)\n",
    "    rho.vec[:].FV().NumPy()[rho.vec[:].FV().NumPy()<0]=0\n",
    "    rho.vec[:].FV().NumPy()[rho.vec[:].FV().NumPy()>1]=1\n",
    "    \n",
    "    if np.isnan(np.sum(rho.vec[:].FV().NumPy())):\n",
    "        break\n",
    "    if step < 1e-4:\n",
    "        break"
   ]
  },
  {
   "cell_type": "code",
   "execution_count": 12,
   "metadata": {},
   "outputs": [
    {
     "data": {
      "image/png": "[encoded data removed]",
      "text/plain": [
       "<Figure size 432x288 with 1 Axes>"
      ]
     },
     "metadata": {
      "needs_background": "light"
     },
     "output_type": "display_data"
    }
   ],
   "source": [
    "#plt.semilogy(objFuncList)\n",
    "plt.semilogy(JparList)\n",
    "plt.semilogy(JserList)\n",
    "\n",
    "\n",
    "# Performances optimale laminé pour beta = 1T\n",
    "# (issues de la résolution du système non linéaire)\n",
    "\n",
    "theta_opt1T = 0.418\n",
    "Bair = 0.0158\n",
    "Bfer = 2.3703\n",
    "nu_serie_NL = 4.6356e+05\n",
    "nu_par_NL = 1.2629e+04\n",
    "\n",
    "Jpar = np.pi/2 * nu_par_NL\n",
    "Jser = np.pi/2 * nu_serie_NL\n",
    "J = Jpar - Jser\n",
    "\n",
    "plt.semilogy([0,len(objFuncList)],[Jpar,Jpar],'--')\n",
    "plt.semilogy([0,len(objFuncList)],[Jser,Jser],'--')\n",
    "\n",
    "plt.xlabel('Itérations')\n",
    "plt.ylabel('')\n",
    "plt.legend(['$J_{\\parallel}$','$J_{\\perp}$'])\n",
    "plt.grid()"
   ]
  },
  {
   "cell_type": "code",
   "execution_count": 11,
   "metadata": {},
   "outputs": [
    {
     "data": {
      "application/vnd.jupyter.widget-view+json": {
       "model_id": "749b68efd8bd4fa68393dd41f52e8a11",
       "version_major": 2,
       "version_minor": 0
      },
      "text/plain": [
       "WebGuiWidget(value={'ngsolve_version': '6.2.2105-9-g5a835126f', 'mesh_dim': 2, 'order2d': 2, 'order3d': 2, 'dr…"
      ]
     },
     "metadata": {},
     "output_type": "display_data"
    },
    {
     "data": {
      "text/plain": [
       "BaseWebGuiScene"
      ]
     },
     "execution_count": 11,
     "metadata": {},
     "output_type": "execute_result"
    }
   ],
   "source": [
    "Draw(rho)"
   ]
  },
  {
   "cell_type": "code",
   "execution_count": null,
   "metadata": {},
   "outputs": [],
   "source": []
  },
  {
   "cell_type": "markdown",
   "metadata": {},
   "source": [
    "## 3) Optimisation\n",
    "\n"
   ]
  },
  {
   "cell_type": "code",
   "execution_count": null,
   "metadata": {},
   "outputs": [],
   "source": []
  },
  {
   "cell_type": "code",
   "execution_count": null,
   "metadata": {},
   "outputs": [],
   "source": []
  },
  {
   "cell_type": "code",
   "execution_count": null,
   "metadata": {},
   "outputs": [],
   "source": []
  },
  {
   "cell_type": "code",
   "execution_count": null,
   "metadata": {},
   "outputs": [],
   "source": []
  },
  {
   "cell_type": "code",
   "execution_count": null,
   "metadata": {},
   "outputs": [],
   "source": []
  },
  {
   "cell_type": "code",
   "execution_count": null,
   "metadata": {},
   "outputs": [],
   "source": []
  },
  {
   "cell_type": "code",
   "execution_count": null,
   "metadata": {},
   "outputs": [],
   "source": []
  }
 ],
 "metadata": {
  "kernelspec": {
   "display_name": "Python 3 (ipykernel)",
   "language": "python",
   "name": "python3"
  },
  "language_info": {
   "codemirror_mode": {
    "name": "ipython",
    "version": 3
   },
   "file_extension": ".py",
   "mimetype": "text/x-python",
   "name": "python",
   "nbconvert_exporter": "python",
   "pygments_lexer": "ipython3",
   "version": "3.8.10"
  },
  "livereveal": {
   "autolaunch": true
  },
  "toc": {
   "base_numbering": 1,
   "nav_menu": {},
   "number_sections": true,
   "sideBar": true,
   "skip_h1_title": false,
   "title_cell": "Table of Contents",
   "title_sidebar": "Contents",
   "toc_cell": false,
   "toc_position": {},
   "toc_section_display": true,
   "toc_window_display": false
  }
 },
 "nbformat": 4,
 "nbformat_minor": 4
}
