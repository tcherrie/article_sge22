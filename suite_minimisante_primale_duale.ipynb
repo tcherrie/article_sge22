{
 "cells": [
  {
   "cell_type": "markdown",
   "metadata": {},
   "source": [
    "# Suite minimisante (linéaire)"
   ]
  },
  {
   "cell_type": "code",
   "execution_count": 1,
   "metadata": {},
   "outputs": [
    {
     "name": "stdout",
     "output_type": "stream",
     "text": [
      "importing NGSolve-6.2.2105-9-g5a835126f\n"
     ]
    }
   ],
   "source": [
    "from module_optim_topo import *"
   ]
  },
  {
   "cell_type": "markdown",
   "metadata": {},
   "source": [
    "## 1) Formulation primale\n",
    "\n",
    "On impose la circulation de $H$ sur le bord du domaine, ce qui en l'absence de courant dans le rotor revient à imposer $\\langle H \\rangle$ moyen. Cette grandeur est reliée à la valeur d'une alimentation externe en courant.\n",
    "Pour comparer avec la formulation primale, on choisit $\\langle H \\rangle = \\nu_{d}^* \\langle B \\rangle$, avec $\\langle B \\rangle = 1T$ et $\\nu_{D}^*$ la réluctivité homogénéisée dans l'axe $d$, qui vaut :\n",
    "\n",
    "$$ \\nu_d^* = \\frac{\\nu_0}{\\theta \\mu_r + (1-\\theta)} $$\n",
    "\n",
    "Avec $\\theta$ la fraction volumique, égale à 0.5.\n",
    "Dans cette formulation, les effets de bord se font ressentir sur les assemblages série : $J_d$ est fixée et $J_q$ diminue avec le nombre de barres."
   ]
  },
  {
   "cell_type": "code",
   "execution_count": 2,
   "metadata": {},
   "outputs": [
    {
     "name": "stdout",
     "output_type": "stream",
     "text": [
      "3 barres - Jd = 24752.68 - Jq = 5740.0\n",
      "7 barres - Jd = 24752.68 - Jq = 3020.0\n",
      "11 barres - Jd = 24752.69 - Jq = 2262.0\n",
      "15 barres - Jd = 24752.69 - Jq = 1908.0\n",
      "19 barres - Jd = 24752.67 - Jq = 1703.0\n",
      "23 barres - Jd = 24752.68 - Jq = 1569.0\n",
      "27 barres - Jd = 24752.68 - Jq = 1475.0\n",
      "31 barres - Jd = 24752.68 - Jq = 1404.0\n",
      "35 barres - Jd = 24752.67 - Jq = 1350.0\n",
      "39 barres - Jd = 24752.71 - Jq = 1306.0\n",
      "43 barres - Jd = 24752.66 - Jq = 1271.0\n",
      "47 barres - Jd = 24752.72 - Jq = 1240.0\n",
      "51 barres - Jd = 24752.69 - Jq = 1215.0\n",
      "55 barres - Jd = 24752.65 - Jq = 1195.0\n",
      "59 barres - Jd = 24752.71 - Jq = 1174.0\n",
      "63 barres - Jd = 24752.72 - Jq = 1156.0\n",
      "67 barres - Jd = 24752.7 - Jq = 1143.0\n",
      "71 barres - Jd = 24752.67 - Jq = 1131.0\n",
      "75 barres - Jd = 24752.63 - Jq = 1120.0\n",
      "79 barres - Jd = 24752.61 - Jq = 1110.0\n",
      "83 barres - Jd = 24752.74 - Jq = 1096.0\n",
      "87 barres - Jd = 24752.76 - Jq = 1085.0\n",
      "91 barres - Jd = 24752.77 - Jq = 1077.0\n",
      "95 barres - Jd = 24752.76 - Jq = 1070.0\n",
      "99 barres - Jd = 24752.72 - Jq = 1064.0\n"
     ]
    }
   ],
   "source": [
    "mur=100\n",
    "maxN=100\n",
    "hmoy = 1/mu0/(0.5*mur + 0.5)\n",
    "Jd_primal = []; Jq_primal = []; J_primal = []\n",
    "\n",
    "for i in range(3,maxN,4):\n",
    "    mesh = meshLamDisk(i, h = 1/maxN)\n",
    "    ad, aq = solvePrimal_linear(mur,hmoy,mesh)\n",
    "    Jd_primal.append(compliance(ad,mesh,1/mu_defaut(mur,mesh)))\n",
    "    Jq_primal.append(compliance(aq,mesh,1/mu_defaut(mur,mesh)))\n",
    "    J_primal.append(Jd_primal[-1]-Jq_primal[-1])\n",
    "    print(f'{i} barres - Jd = {np.round(Jd_primal[-1],2)} - Jq = {np.round(Jq_primal[-1])}')"
   ]
  },
  {
   "cell_type": "markdown",
   "metadata": {},
   "source": [
    "##  2) Formulation duale\n",
    "On impose le flux de $B$ sur le bord du domaine, ce qui revient à imposer $\\langle B \\rangle$ moyen. Cette grandeur n'est malheureusement pas reliée directement à une alimentation en magnétostatique, c'est pourquoi elle n'est généralement pas utilisée. En magnétodynamique, elle est reliée à l'intégrale de la tension.\n",
    "Pour comparer avec la formulation primale, on choisit $\\langle B \\rangle = 1T$.\n",
    "\n",
    "Dans cette formulation, les effets de bord se font ressentir sur les assemblages parallèle : $J_q$ est fixée et $J_d$ diminue avec le nombre de barres. Ce comportement est celui qu'on observerait pour les flux habituels (flux de courant, de chaleur)."
   ]
  },
  {
   "cell_type": "code",
   "execution_count": null,
   "metadata": {},
   "outputs": [],
   "source": [
    "Jd_dual = []; Jq_dual = []; J_dual = []\n",
    "\n",
    "for i in range(3,maxN,4):\n",
    "    mesh = meshLamDisk(i, h = 1/maxN)\n",
    "    phid, phiq = solveDual_linear(mur,1,mesh)\n",
    "    Jd_dual.append(compliance(phid,mesh,1/mu_defaut(mur,mesh)))\n",
    "    Jq_dual.append(compliance(phiq,mesh,1/mu_defaut(mur,mesh)))\n",
    "    J_dual.append(Jd_dual[-1]-Jq_dual[-1])\n",
    "    print(f'{i} barres - Jd = {np.round(Jd_dual[-1],2)} - Jq = {np.round(Jq_dual[-1])}')"
   ]
  },
  {
   "cell_type": "markdown",
   "metadata": {},
   "source": [
    "## 3) Tracés et comparaisons"
   ]
  },
  {
   "cell_type": "code",
   "execution_count": null,
   "metadata": {},
   "outputs": [],
   "source": [
    "Jpar_lamine = np.pi/2 / (0.5*mu0*mur_fer + 0.5*mu0)\n",
    "Jperp_lamine = np.pi/2 * (0.5/(mu0*mur_fer) + 0.5/mu0)\n",
    "\n",
    "plt.semilogy(list(range(3,maxN,4)),J1,'-o')\n",
    "plt.semilogy(list(range(3,maxN,4)),J2,'-o')\n",
    "plt.semilogy([1,maxN],[Jpar_lamine,Jpar_lamine],'--')\n",
    "plt.semilogy([1,maxN],[Jperp_lamine,Jperp_lamine],'--')\n",
    "plt.legend([\"$J_{\\parallel}$\",\"$J_{\\perp}$\",\"$J_{\\parallel}$ asymptotique\",\"$J_{\\perp}$ théorique\"], fontsize=13)\n",
    "plt.xlabel(\"Nombre de barres\", fontsize=13)\n",
    "plt.ylabel(\"Compliance magnétique (J/m)\", fontsize=13)\n",
    "plt.yticks([1e5,1e6])\n",
    "plt.grid()\n",
    "plt.savefig(\"suite_minimisante_lineaire.pdf\",format = 'pdf')"
   ]
  },
  {
   "cell_type": "code",
   "execution_count": null,
   "metadata": {},
   "outputs": [],
   "source": []
  }
 ],
 "metadata": {
  "kernelspec": {
   "display_name": "Python 3 (ipykernel)",
   "language": "python",
   "name": "python3"
  },
  "language_info": {
   "codemirror_mode": {
    "name": "ipython",
    "version": 3
   },
   "file_extension": ".py",
   "mimetype": "text/x-python",
   "name": "python",
   "nbconvert_exporter": "python",
   "pygments_lexer": "ipython3",
   "version": "3.8.10"
  },
  "livereveal": {
   "autolaunch": true
  },
  "toc": {
   "base_numbering": 1,
   "nav_menu": {},
   "number_sections": true,
   "sideBar": true,
   "skip_h1_title": false,
   "title_cell": "Table of Contents",
   "title_sidebar": "Contents",
   "toc_cell": false,
   "toc_position": {},
   "toc_section_display": true,
   "toc_window_display": false
  }
 },
 "nbformat": 4,
 "nbformat_minor": 4
}
